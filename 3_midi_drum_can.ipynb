version https://git-lfs.github.com/spec/v1
oid sha256:28732e553c0a43ec61075b2ea1a76fc22ebd75a0c88042c28503121d1c02e61e
size 24890
