{
 "cells": [
  {
   "cell_type": "code",
   "execution_count": 9,
   "metadata": {},
   "outputs": [],
   "source": [
    "from glob import glob\n",
    "import os\n",
    "\n",
    "os.environ[\"CUDA_VISIBLE_DEVICES\"] = '2'"
   ]
  },
  {
   "cell_type": "code",
   "execution_count": 2,
   "metadata": {},
   "outputs": [],
   "source": [
    "DRUM_CLASSES = [\n",
    "   'Kick',\n",
    "   'Snare',\n",
    "   'Hi-hat closed',\n",
    "   'Hi-hat open',\n",
    "   'Tom low',\n",
    "   'Tom mid', \n",
    "   'Tom high',\n",
    "   'Clap',\n",
    "   'Rim' \n",
    "]\n",
    "MIDI_DRUM_MAP = {\n",
    "   36: 0,\n",
    "   35: 0,\n",
    "   38: 1,\n",
    "   27: 1,\n",
    "   28: 1,\n",
    "   31: 1,\n",
    "   32: 1,\n",
    "   33: 1,\n",
    "   34: 1,\n",
    "   37: 1,\n",
    "   39: 1,\n",
    "   40: 1,\n",
    "   56: 1,\n",
    "   65: 1,\n",
    "   66: 1,\n",
    "   75: 1,\n",
    "   85: 1,\n",
    "   42: 2,\n",
    "   44: 2,\n",
    "   54: 2,\n",
    "   68: 2,\n",
    "   69: 2,\n",
    "   70: 2,\n",
    "   71: 2,\n",
    "   73: 2,\n",
    "   78: 2,\n",
    "   80: 2,\n",
    "   46: 3,\n",
    "   67: 3,\n",
    "   72: 3,\n",
    "   74: 3,\n",
    "   79: 3,\n",
    "   81: 3,\n",
    "   45: 4,\n",
    "   29: 4,\n",
    "   41: 4,\n",
    "   61: 4,\n",
    "   64: 4,\n",
    "   84: 4,\n",
    "   48: 5,\n",
    "   47: 5,\n",
    "   60: 5,\n",
    "   63: 5,\n",
    "   77: 5,\n",
    "   86: 5,\n",
    "   87: 5,\n",
    "   50: 6,\n",
    "   30: 6,\n",
    "   43: 6,\n",
    "   62: 6,\n",
    "   76: 6,\n",
    "   83: 6,\n",
    "   49: 7,\n",
    "   55: 7,\n",
    "   57: 7,\n",
    "   58: 7,\n",
    "   51: 8,\n",
    "   52: 8,\n",
    "   53: 8,\n",
    "   59: 8,\n",
    "   82: 8\n",
    "}\n",
    "\n",
    "resolution  = 4 # separate quater into 4  = 16 notes per bar\n",
    "\n",
    "nb_bars = 2 \n",
    "\n",
    "len_seq = resolution * 4 * nb_bars # length of drumloops in training data - 2 bars\n",
    "    \n",
    "nb_notes = len(DRUM_CLASSES) # number of possible MIDI notes  - max_drum_note - min_drum_note\n"
   ]
  },
  {
   "cell_type": "code",
   "execution_count": 4,
   "metadata": {},
   "outputs": [],
   "source": [
    "import random\n",
    "import numpy as np\n",
    "import os\n",
    "import joblib\n",
    "import pretty_midi\n",
    "import glob\n",
    "\n",
    "import matplotlib.pyplot as plt\n",
    "%matplotlib inline\n",
    "\n",
    "MIN_NB_ONSETS = 8\n",
    "\n",
    "drum_dists = {}\n",
    "\n",
    "def plot_drum_matrix(a):\n",
    "    if a is not None:\n",
    "        a = np.transpose(np.squeeze(a))\n",
    "        plt.matshow(a)\n",
    "        plt.show()  \n",
    "\n",
    "# # unit timestep = 16th note\n",
    "# def get_pianomatrices_of_drums(midi_file, is_drum=True):\n",
    "#     found = False\n",
    "#     genre_id = -1\n",
    "    \n",
    "#     # is it in selected genres?\n",
    "#     for id_, genre in enumerate(GENRES):\n",
    "#         if genre in midi_file:\n",
    "#             found = True\n",
    "#             genre_id = id_\n",
    "#             break\n",
    "#     if found is False:\n",
    "#         return None\n",
    "    \n",
    "#     # load midi file\n",
    "#     try:\n",
    "#         pm = pretty_midi.PrettyMIDI(midi_file)\n",
    "#     except:\n",
    "#         print (\"Failed to load midi: \", midi_file)\n",
    "#         return None\n",
    "        \n",
    "#     # get timiming of quater notes\n",
    "#     beats = pm.get_beats()\n",
    "    \n",
    "#     # make it to 16th notes\n",
    "#     beats_ticks = [] # converting to ticks\n",
    "    \n",
    "#     for i in range((len(beats) +1)* 4):\n",
    "#         beats_ticks.append(i * pm.resolution / 4)\n",
    "    \n",
    "#     num_notes16 = len(beats_ticks)\n",
    "#     print(num_notes16, midi_file)\n",
    "    \n",
    "#     # maximum duration of one note\n",
    "#     max_duration = 2.0 # 2 quater notes\n",
    "\n",
    "#     # convert ticks to index of 16th note\n",
    "#     def find_note_index(tick, beats_ticks):\n",
    "#         return (np.abs(beats_ticks - tick)).argmin()\n",
    "    \n",
    "#     def get_timeshift(beats_ticks, grid_id, note_start):\n",
    "#         grid_start = beats_ticks[grid_id]\n",
    "#         tick_diff = note_start - grid_start\n",
    "#         tick_grid = pm.resolution / 4        \n",
    "#         diff_coef= tick_diff / tick_grid * 2.0\n",
    "#         return diff_coef\n",
    "        \n",
    "#     # # of notes\n",
    "#     notes_length = 4 * nb_bars * resolution\n",
    "\n",
    "#     # create pianoroll matrix (resolution: 16th note))\n",
    "#     found_extra = False # with other than kick/snare/hat\n",
    "#     pianorolls, timeshifts, durations, genre_ids = [], [], [], []\n",
    "#     for instrument in pm.instruments:\n",
    "#         if instrument.is_drum == is_drum or 1:  # use drum tracks only\n",
    "            \n",
    "#             for note_start in range(0, num_notes16 - 16, 16): # hopsize = 1bar = 16 16th notes\n",
    "#                 if note_start + notes_length > num_notes16:\n",
    "#                     continue\n",
    "#                 pianoroll = np.zeros((notes_length, nb_notes), dtype='float') \n",
    "#                 timeshift = np.zeros((notes_length, nb_notes), dtype='float')\n",
    "#                 duration = np.zeros((notes_length, nb_notes), dtype='float')\n",
    "\n",
    "#                 for note in instrument.notes:\n",
    "#                     idx_start = find_note_index(pm.time_to_tick(note.start), beats_ticks)\n",
    "#                     diff_coef = get_timeshift(beats_ticks, idx_start, pm.time_to_tick(note.start))\n",
    "\n",
    "#                     if note_start <= idx_start and idx_start < note_start + notes_length:\n",
    "#                         if note.pitch in MIDI_DRUM_MAP:\n",
    "#                             drum_note = MIDI_DRUM_MAP[note.pitch]\n",
    "                            \n",
    "#                             if drum_note in drum_dists:\n",
    "#                                 drum_dists[drum_note] += 1\n",
    "#                             else:\n",
    "#                                 drum_dists[drum_note] = 1\n",
    "                            \n",
    "#                             pianoroll[idx_start - note_start, drum_note] = note.velocity / 128.\n",
    "#                             timeshift[idx_start - note_start, drum_note] = diff_coef\n",
    "\n",
    "#                             dur = (pm.time_to_tick(note.end) - pm.time_to_tick(note.start))/ (pm.resolution / 4)\n",
    "#                             dur = min(1.0, max(0, dur / max_duration))\n",
    "#                             duration[idx_start - note_start, drum_note] = dur\n",
    "\n",
    "#                             if drum_note >= 3:\n",
    "#                                 found_extra = True\n",
    "#                         else:\n",
    "#                             print(\"not found\", note.pitch )\n",
    "                \n",
    "#                 if np.sum(pianoroll > 0.) >= MIN_NB_ONSETS:\n",
    "#                     pianorolls.append(pianoroll)\n",
    "#                     timeshifts.append(timeshift)\n",
    "#                     durations.append(duration)\n",
    "#                     genre_ids.append(genre_id)\n",
    "             \n",
    "#     # ignore the first and the last one!\n",
    "#     pianorolls = np.array(pianorolls)\n",
    "#     timeshifts = np.array(timeshifts)\n",
    "#     durations = np.array(durations)\n",
    "#     genre_ids = np.array(genre_ids)\n",
    "    \n",
    "#     return (pianorolls,timeshifts, durations, genre_ids)\n",
    "    \n",
    "# midi_file = random.choice(filepaths)\n",
    "# drums, timeshift, duration, genre_ids = get_pianomatrices_of_drums(midi_file)    \n",
    "\n",
    "# print (timeshift.shape)\n",
    "# print (genre_ids.shape)\n",
    "# print (timeshift.shape)\n",
    "\n",
    "# for i in range(3):\n",
    "#     plot_drum_matrix(drums[i])\n"
   ]
  },
  {
   "cell_type": "code",
   "execution_count": 5,
   "metadata": {},
   "outputs": [
    {
     "name": "stdout",
     "output_type": "stream",
     "text": [
      "[u'Old Skool' u'Trance' u'DnB' u'Basic' u'Downtempo' u'Jungle' u'House'\n",
      " u'Breakbeat' u'Garage' u'Techno']\n",
      "(49003,)\n",
      "[0, 2, 5, 6, 7, 8, 9]\n",
      "[u'Old Skool', u'DnB', u'Jungle', u'House', u'Breakbeat', u'Garage', u'Techno']\n",
      "7 genres we have\n",
      "(37950, 32, 9)\n",
      "(37950,)\n"
     ]
    }
   ],
   "source": [
    "import numpy as np\n",
    "\n",
    "matrices_drums = np.load(\"./tmp/matrices_drum_gm_electronic.npz\")['drum_data']\n",
    "matrices_genres = np.load(\"./tmp/matrices_drum_gm_electronic.npz\")['genre_ids']\n",
    "GENRES_ALL = np.load(\"./tmp/matrices_drum_gm_electronic.npz\")['genres']\n",
    "\n",
    "print(GENRES_ALL)\n",
    "print(matrices_genres.shape)\n",
    "\n",
    "# Filter genres \n",
    "GENRES_USED = [u'Old Skool', u'DnB', u'Jungle', u'House', u'Breakbeat', u'Garage', u'Techno']\n",
    "GENRES_ID_USED = [i for i, genre in enumerate(GENRES_ALL) if genre in GENRES_USED]\n",
    "GENRES = [genre for i, genre in enumerate(GENRES_ALL) if genre in GENRES_USED]\n",
    "\n",
    "print(GENRES_ID_USED)\n",
    "print(GENRES)\n",
    "\n",
    "NB_GENRES = len(GENRES)\n",
    "print(\"%d genres we have\" % NB_GENRES)\n",
    "\n",
    "_drums = []\n",
    "_genres = []\n",
    "\n",
    "for genre_id, drum in zip(matrices_genres, matrices_drums):\n",
    "    if genre_id in GENRES_ID_USED:\n",
    "        _drums.append(drum)\n",
    "        genre_id = GENRES_ID_USED.index(genre_id)\n",
    "        _genres.append(genre_id)\n",
    "\n",
    "matrices_drums = np.array(_drums)\n",
    "print(matrices_drums.shape)\n",
    "matrices_genres = np.array(_genres)\n",
    "print(matrices_genres.shape)"
   ]
  },
  {
   "cell_type": "code",
   "execution_count": 6,
   "metadata": {
    "scrolled": false
   },
   "outputs": [
    {
     "name": "stdout",
     "output_type": "stream",
     "text": [
      "(u'Old Skool', 3595)\n"
     ]
    },
    {
     "data": {
      "image/png": "[encoded data removed]",
      "text/plain": [
       "<Figure size 1024x288 with 1 Axes>"
      ]
     },
     "metadata": {},
     "output_type": "display_data"
    },
    {
     "name": "stdout",
     "output_type": "stream",
     "text": [
      "(u'DnB', 6931)\n"
     ]
    },
    {
     "data": {
      "image/png": "[encoded data removed]",
      "text/plain": [
       "<Figure size 1024x288 with 1 Axes>"
      ]
     },
     "metadata": {},
     "output_type": "display_data"
    },
    {
     "name": "stdout",
     "output_type": "stream",
     "text": [
      "(u'Jungle', 4795)\n"
     ]
    },
    {
     "data": {
      "image/png": "[encoded data removed]",
      "text/plain": [
       "<Figure size 1024x288 with 1 Axes>"
      ]
     },
     "metadata": {},
     "output_type": "display_data"
    },
    {
     "name": "stdout",
     "output_type": "stream",
     "text": [
      "(u'House', 3595)\n"
     ]
    },
    {
     "data": {
      "image/png": "[encoded data removed]",
      "text/plain": [
       "<Figure size 1024x288 with 1 Axes>"
      ]
     },
     "metadata": {},
     "output_type": "display_data"
    },
    {
     "name": "stdout",
     "output_type": "stream",
     "text": [
      "(u'Breakbeat', 8403)\n"
     ]
    },
    {
     "data": {
      "image/png": "[encoded data removed]",
      "text/plain": [
       "<Figure size 1024x288 with 1 Axes>"
      ]
     },
     "metadata": {},
     "output_type": "display_data"
    },
    {
     "name": "stdout",
     "output_type": "stream",
     "text": [
      "(u'Garage', 6618)\n"
     ]
    },
    {
     "data": {
      "image/png": "[encoded data removed]",
      "text/plain": [
       "<Figure size 1024x288 with 1 Axes>"
      ]
     },
     "metadata": {},
     "output_type": "display_data"
    },
    {
     "name": "stdout",
     "output_type": "stream",
     "text": [
      "(u'Techno', 4013)\n"
     ]
    },
    {
     "data": {
      "image/png": "[encoded data removed]",
      "text/plain": [
       "<Figure size 1024x288 with 1 Axes>"
      ]
     },
     "metadata": {},
     "output_type": "display_data"
    }
   ],
   "source": [
    "for i, genre in enumerate(GENRES):\n",
    "    a = matrices_drums[matrices_genres == i]\n",
    "    print(genre, int(a.shape[0]))\n",
    "    \n",
    "    b = np.mean(a, axis=0)\n",
    "    s = np.std(a, axis=0)\n",
    "#    print(s.shape)\n",
    "    plot_drum_matrix(b)\n",
    "#    plot_drum_matrix(s)"
   ]
  },
  {
   "cell_type": "code",
   "execution_count": 7,
   "metadata": {},
   "outputs": [
    {
     "name": "stderr",
     "output_type": "stream",
     "text": [
      "Using TensorFlow backend.\n"
     ]
    },
    {
     "name": "stdout",
     "output_type": "stream",
     "text": [
      "_________________________________________________________________\n",
      "Layer (type)                 Output Shape              Param #   \n",
      "=================================================================\n",
      "drum_input (InputLayer)      (None, 32, 9)             0         \n",
      "_________________________________________________________________\n",
      "bidirectional_1 (Bidirection (None, 32, 128)           37888     \n",
      "_________________________________________________________________\n",
      "bidirectional_2 (Bidirection (None, 32, 256)           263168    \n",
      "_________________________________________________________________\n",
      "bidirectional_3 (Bidirection (None, 32, 32)            34944     \n",
      "_________________________________________________________________\n",
      "reshape_1 (Reshape)          (None, 1024)              0         \n",
      "_________________________________________________________________\n",
      "dense_1 (Dense)              (None, 512)               524800    \n",
      "_________________________________________________________________\n",
      "dense_2 (Dense)              (None, 256)               131328    \n",
      "_________________________________________________________________\n",
      "dense_3 (Dense)              (None, 7)                 1799      \n",
      "_________________________________________________________________\n",
      "softmax_1 (Softmax)          (None, 7)                 0         \n",
      "=================================================================\n",
      "Total params: 993,927\n",
      "Trainable params: 993,927\n",
      "Non-trainable params: 0\n",
      "_________________________________________________________________\n"
     ]
    }
   ],
   "source": [
    "import numpy as np\n",
    "from keras.layers import Input, Dense, Flatten, Dropout, Reshape, LSTM, Bidirectional, Lambda, Concatenate, Softmax\n",
    "from keras.layers.convolutional import Conv2D\n",
    "\n",
    "from keras.layers.normalization import BatchNormalization\n",
    "from keras.layers.advanced_activations import LeakyReLU\n",
    "from keras.optimizers import RMSprop, Adam\n",
    "import keras.backend as K\n",
    "from keras.models import Model, Sequential\n",
    "\n",
    "batch_size = 16\n",
    "n_z = 4\n",
    "dropout_rate = 0.30\n",
    "\n",
    "# encoder\n",
    "drum_input = Input(shape=(len_seq, nb_notes), name='drum_input')  # tensorflow order\n",
    "x = Bidirectional(LSTM(64, return_sequences=True, activation='tanh'))(drum_input) \n",
    "x = Bidirectional(LSTM(128, return_sequences=True, activation='tanh'))(x)\n",
    "x = Bidirectional(LSTM(16, return_sequences=True, activation='tanh'))(x)\n",
    "x1 = Reshape((1024,))(x)\n",
    "x = Dense(512, activation='relu')(x1)\n",
    "x = Dense(256, activation='relu')(x)\n",
    "x = Dense(NB_GENRES, activation='relu')(x)\n",
    "output = Softmax()(x)\n",
    "\n",
    "model = Model(drum_input, output)\n",
    "model.summary()\n"
   ]
  },
  {
   "cell_type": "code",
   "execution_count": 8,
   "metadata": {},
   "outputs": [
    {
     "name": "stdout",
     "output_type": "stream",
     "text": [
      "Train on 34155 samples, validate on 3795 samples\n",
      "Epoch 1/100\n",
      "34155/34155 [==============================] - 141s 4ms/step - loss: 1.0137 - acc: 0.6217 - val_loss: 0.4106 - val_acc: 0.8224\n",
      "Epoch 2/100\n",
      "34155/34155 [==============================] - 135s 4ms/step - loss: 0.2972 - acc: 0.8780 - val_loss: 0.3556 - val_acc: 0.8316\n",
      "Epoch 3/100\n",
      "34155/34155 [==============================] - 134s 4ms/step - loss: 0.2269 - acc: 0.8986 - val_loss: 0.3020 - val_acc: 0.8469\n",
      "\n",
      "Epoch 00003: val_loss improved from inf to 0.30201, saving model to ./tmp/rythm_classification_gm_03-0.30.hdf5\n",
      "Epoch 4/100\n",
      "34155/34155 [==============================] - 136s 4ms/step - loss: 0.2100 - acc: 0.9035 - val_loss: 0.2994 - val_acc: 0.8480\n",
      "Epoch 5/100\n",
      "34155/34155 [==============================] - 136s 4ms/step - loss: 0.2008 - acc: 0.9054 - val_loss: 0.2999 - val_acc: 0.8472\n",
      "Epoch 6/100\n",
      "34155/34155 [==============================] - 136s 4ms/step - loss: 0.2015 - acc: 0.9061 - val_loss: 0.3022 - val_acc: 0.8458\n",
      "\n",
      "Epoch 00006: val_loss did not improve from 0.30201\n",
      "Epoch 7/100\n",
      "34155/34155 [==============================] - 135s 4ms/step - loss: 0.1925 - acc: 0.9063 - val_loss: 0.2955 - val_acc: 0.8482\n",
      "Epoch 8/100\n",
      "34155/34155 [==============================] - 135s 4ms/step - loss: 0.1862 - acc: 0.9073 - val_loss: 0.2971 - val_acc: 0.8477\n",
      "Epoch 9/100\n",
      "34155/34155 [==============================] - 134s 4ms/step - loss: 0.1897 - acc: 0.9070 - val_loss: 0.3023 - val_acc: 0.8469\n",
      "\n",
      "Epoch 00009: val_loss did not improve from 0.30201\n",
      "Epoch 10/100\n",
      "34155/34155 [==============================] - 135s 4ms/step - loss: 0.1882 - acc: 0.9072 - val_loss: 0.3002 - val_acc: 0.8482\n",
      "Epoch 11/100\n",
      "34155/34155 [==============================] - 135s 4ms/step - loss: 0.1769 - acc: 0.9099 - val_loss: 0.3182 - val_acc: 0.8480\n",
      "Epoch 12/100\n",
      "34155/34155 [==============================] - 134s 4ms/step - loss: 0.1861 - acc: 0.9073 - val_loss: 0.2958 - val_acc: 0.8480\n",
      "\n",
      "Epoch 00012: val_loss improved from 0.30201 to 0.29583, saving model to ./tmp/rythm_classification_gm_12-0.30.hdf5\n",
      "Epoch 00012: early stopping\n"
     ]
    },
    {
     "data": {
      "text/plain": [
       "<keras.callbacks.History at 0x7f9b85180310>"
      ]
     },
     "execution_count": 8,
     "metadata": {},
     "output_type": "execute_result"
    }
   ],
   "source": [
    "from keras.callbacks import EarlyStopping, ModelCheckpoint\n",
    "from keras.utils import to_categorical \n",
    "\n",
    "genre_ids = to_categorical(matrices_genres, num_classes=NB_GENRES)\n",
    "\n",
    "es = EarlyStopping(monitor='val_loss', min_delta=0, patience=5, verbose=1, mode='auto')\n",
    "cp = ModelCheckpoint(\"./tmp/rythm_classification_gm_{epoch:02d}-{val_loss:.2f}.hdf5\", monitor='val_loss', verbose=1, save_best_only=True, period=3)\n",
    "model.compile(optimizer='adam', loss='categorical_crossentropy', metrics=['accuracy'])\n",
    "\n",
    "BATCH_SIZE = 64\n",
    "\n",
    "model.fit(matrices_drums, genre_ids, \n",
    "        shuffle=True, batch_size=BATCH_SIZE, epochs=100, verbose=1, validation_split=0.1, callbacks=[es, cp])"
   ]
  }
 ],
 "metadata": {
  "kernelspec": {
   "display_name": "Python 2",
   "language": "python",
   "name": "python2"
  },
  "language_info": {
   "codemirror_mode": {
    "name": "ipython",
    "version": 2
   },
   "file_extension": ".py",
   "mimetype": "text/x-python",
   "name": "python",
   "nbconvert_exporter": "python",
   "pygments_lexer": "ipython2",
   "version": "2.7.15"
  }
 },
 "nbformat": 4,
 "nbformat_minor": 2
}
