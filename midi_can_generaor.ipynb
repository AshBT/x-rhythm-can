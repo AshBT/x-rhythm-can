{
 "cells": [
  {
   "cell_type": "markdown",
   "metadata": {},
   "source": [
    "# Rhythm Pattern Generator \n",
    "\n",
    "You need to run the Max patch in `playback_maxmsp` directory"
   ]
  },
  {
   "cell_type": "code",
   "execution_count": 1,
   "metadata": {},
   "outputs": [],
   "source": [
    "# CONSTANTS\n",
    "\n",
    "DRUM_CLASSES = [\n",
    "   'Kick',\n",
    "   'Snare',\n",
    "   'Hi-hat closed',\n",
    "   'Hi-hat open',\n",
    "   'Tom low',\n",
    "   'Tom mid', \n",
    "   'Tom high',\n",
    "   'Clap',\n",
    "   'Rim' \n",
    "]\n",
    "\n",
    "resolution  = 4 # divide quater note into 4  = 16 notes\n",
    "\n",
    "nb_bars = 2  # number of bars \n",
    "\n",
    "len_seq = resolution * 4 * nb_bars # length of drumloops in training data - 2 bars\n",
    "    \n",
    "nb_notes = len(DRUM_CLASSES) # number of possible MIDI notes  - max_drum_note - min_drum_note\n",
    "\n",
    "n_z = 100\n",
    "\n",
    "# MIDI Data\n",
    "GENRES = ['Old Skool', 'DnB', 'Jungle', 'House', 'Breakbeat', 'Garage', 'Techno']\n",
    "NB_GENRES = len(GENRES)"
   ]
  },
  {
   "cell_type": "code",
   "execution_count": 2,
   "metadata": {
    "inputHidden": false,
    "outputHidden": false,
    "scrolled": false
   },
   "outputs": [],
   "source": [
    "import tensorflow as tf\n",
    "\n",
    "# store tensorflow graph object here for multi threading\n",
    "graph = tf.get_default_graph()"
   ]
  },
  {
   "cell_type": "code",
   "execution_count": 3,
   "metadata": {},
   "outputs": [],
   "source": [
    "import matplotlib.pyplot as plt\n",
    "%matplotlib inline\n",
    "\n",
    "def plot_drum_matrix(a):\n",
    "    if a is not None:\n",
    "        a = np.transpose(np.squeeze(a))\n",
    "        plt.matshow(a)\n",
    "        plt.show()        "
   ]
  },
  {
   "cell_type": "code",
   "execution_count": 4,
   "metadata": {},
   "outputs": [
    {
     "name": "stderr",
     "output_type": "stream",
     "text": [
      "Using TensorFlow backend.\n",
      "WARNING: Logging before flag parsing goes to stderr.\n",
      "W0725 12:09:16.111918 4441208256 deprecation_wrapper.py:119] From /Users/nao/anaconda3/envs/default/lib/python2.7/site-packages/keras/backend/tensorflow_backend.py:517: The name tf.placeholder is deprecated. Please use tf.compat.v1.placeholder instead.\n",
      "\n",
      "W0725 12:09:16.118521 4441208256 deprecation_wrapper.py:119] From /Users/nao/anaconda3/envs/default/lib/python2.7/site-packages/keras/backend/tensorflow_backend.py:74: The name tf.get_default_graph is deprecated. Please use tf.compat.v1.get_default_graph instead.\n",
      "\n",
      "W0725 12:09:16.120858 4441208256 deprecation_wrapper.py:119] From /Users/nao/anaconda3/envs/default/lib/python2.7/site-packages/keras/backend/tensorflow_backend.py:4138: The name tf.random_uniform is deprecated. Please use tf.random.uniform instead.\n",
      "\n",
      "W0725 12:09:16.300251 4441208256 deprecation_wrapper.py:119] From /Users/nao/anaconda3/envs/default/lib/python2.7/site-packages/keras/backend/tensorflow_backend.py:133: The name tf.placeholder_with_default is deprecated. Please use tf.compat.v1.placeholder_with_default instead.\n",
      "\n",
      "W0725 12:09:16.464903 4441208256 deprecation.py:506] From /Users/nao/anaconda3/envs/default/lib/python2.7/site-packages/keras/backend/tensorflow_backend.py:3445: calling dropout (from tensorflow.python.ops.nn_ops) with keep_prob is deprecated and will be removed in a future version.\n",
      "Instructions for updating:\n",
      "Please use `rate` instead of `keep_prob`. Rate should be set to `rate = 1 - keep_prob`.\n",
      "W0725 12:09:17.450382 4441208256 deprecation_wrapper.py:119] From /Users/nao/anaconda3/envs/default/lib/python2.7/site-packages/keras/backend/tensorflow_backend.py:174: The name tf.get_default_session is deprecated. Please use tf.compat.v1.get_default_session instead.\n",
      "\n",
      "/Users/nao/anaconda3/envs/default/lib/python2.7/site-packages/keras/engine/saving.py:292: UserWarning: No training configuration found in save file: the model was *not* compiled. Compile it manually.\n",
      "  warnings.warn('No training configuration found in save file: '\n"
     ]
    }
   ],
   "source": [
    "import numpy as np\n",
    "from keras.models import load_model\n",
    "\n",
    "# Load CAN Model\n",
    "generator = load_model(\"./tmp/can_generator.h5\")\n",
    "\n",
    "# Alternatively you can try Genre-Conditioned model\n",
    "#generator = load_model(\"./tmp/c_generator-epoch-004-0.88661.h5\")"
   ]
  },
  {
   "cell_type": "code",
   "execution_count": 6,
   "metadata": {
    "scrolled": false
   },
   "outputs": [
    {
     "data": {
      "image/png": "[encoded data removed]",
      "text/plain": [
       "<Figure size 1024x288 with 1 Axes>"
      ]
     },
     "metadata": {
      "needs_background": "light"
     },
     "output_type": "display_data"
    }
   ],
   "source": [
    "import random\n",
    "import OSC\n",
    "import threading\n",
    "from IPython.display import clear_output\n",
    "from time import sleep\n",
    "\n",
    "stop_interpolation = False\n",
    "z_prev = None\n",
    "\n",
    "try:\n",
    "    if oscclient is not None:\n",
    "        oscclient.close()\n",
    "        oscclient = None\n",
    "        \n",
    "    if oscserver is not None:\n",
    "        oscserver.close()\n",
    "        oscserver = None\n",
    "except:\n",
    "    None\n",
    "\n",
    "def generate_random_sequence(random_z = None, condition = -1, verbose=True):\n",
    "    global graph\n",
    "    if random_z is None:\n",
    "        random_z = np.random.normal(0.0, 1.0, (1, n_z))\n",
    "    if condition < 0: # genre\n",
    "        condition = random.randint(0, NB_GENRES)\n",
    "    \n",
    "    with graph.as_default():\n",
    "        a = generator.predict([random_z, np.array([condition])])\n",
    "        \n",
    "    if verbose:\n",
    "        clear_output()\n",
    "        plot_drum_matrix(a)\n",
    "    return np.squeeze(a)\n",
    "                             \n",
    "# send matrix as a string, then parse in max\n",
    "def send_generated_notes(sequence_matrix,  threshold):       \n",
    "    notes_array = sequence_matrix.transpose()    \n",
    "    try:\n",
    "        for index, row in enumerate(notes_array):\n",
    "            msg = OSC.OSCMessage(\"/generated_notes_seq\")\n",
    "            msg.append(index + 1)\n",
    "            for f in row:\n",
    "                if f > threshold:\n",
    "                    i = int(f * 127)\n",
    "                else:\n",
    "                    i = 0\n",
    "                msg.append(i)                \n",
    "            oscclient.send(msg)\n",
    "\n",
    "        msg = OSC.OSCMessage(\"/generation_done\")\n",
    "        oscclient.send(msg)\n",
    "    except Exception as exp:\n",
    "        print \"error\", exp\n",
    "        \n",
    "def generate_seq_callback(path, tags, args, source):\n",
    "    global z_prev\n",
    "    try:\n",
    "        use_prev = False\n",
    "        threshold = 0.0\n",
    "        condition = -1\n",
    "        if len(args) > 2:\n",
    "            use_prev = args[2]\n",
    "        if len(args) > 1:\n",
    "            threshold = args[1]\n",
    "        if len(args) > 0:\n",
    "            condition = args[0]\n",
    "        \n",
    "        if use_prev:\n",
    "            random_z = z_prev\n",
    "        else:\n",
    "            random_z = np.random.normal(0.0, 1.0, (1, n_z))\n",
    "        z_prev = random_z\n",
    "        sequence = generate_random_sequence(random_z, condition)\n",
    "        send_generated_notes(sequence,  threshold)\n",
    "    except Exception as exp:\n",
    "        print \"error\", exp    \n",
    "        \n",
    "def variation_seq_callback(path, tags, args, source):\n",
    "    try:\n",
    "        if len(args) == 2:\n",
    "            threshold = args[0]\n",
    "            variation_range = args[1]\n",
    "        else:\n",
    "            threshold = 0.0\n",
    "            variation_range = 0.1\n",
    "        \n",
    "        random_z = z_prev + np.random.normal(variation_range*-1., variation_range, (1, n_z))\n",
    "        sequence, timeshift = generate_random_sequence(random_z)\n",
    "        \n",
    "        send_generated_notes(sequence, timeshift, threshold)\n",
    "    except Exception as exp:\n",
    "        print \"error\", exp    \n",
    "\n",
    "def stop_interpolation_callback(path, tags, args, source):\n",
    "    global stop_interpolation\n",
    "    stop_interpolation = True\n",
    "    print stop_interpolation\n",
    "\n",
    "def interpolate_seq_callback(path, tags, args, source):\n",
    "    global stop_interpolation    \n",
    "    try:\n",
    "        if len(args) == 3:\n",
    "            threshold = args[0]\n",
    "            interpolation = args[1]\n",
    "            sleep_duration  = args[2]\n",
    "        else:\n",
    "            threshold = 0.0\n",
    "            interpolation = 8\n",
    "            sleep_duration = 4\n",
    "            \n",
    "        z_a = np.random.normal(0.0, 1.0, (1, n_z)) # seed 1\n",
    "        z_b = np.random.normal(0.0, 1.0, (1, n_z)) # seed 2\n",
    "    \n",
    "        for i in range(interpolation + 1):\n",
    "            if stop_interpolation:\n",
    "                stop_interpolation = False\n",
    "                break\n",
    "            z = z_a * (interpolation - i)/float(interpolation) + z_b * i/float(interpolation)\n",
    "            sequence, timeshift = generate_random_sequence(z)\n",
    "            send_generated_notes(sequence, timeshift, threshold)\n",
    "            \n",
    "            # progress bar\n",
    "            msg = OSC.OSCMessage(\"/interpolation_id\")\n",
    "            msg.append(i)\n",
    "            msg.append(interpolation)            \n",
    "            oscclient.send(msg)\n",
    "            \n",
    "            # sleep\n",
    "            sleep(sleep_duration)\n",
    "        msg = OSC.OSCMessage(\"/interpolation_done\")\n",
    "        oscclient.send(msg)\n",
    "    except Exception as exp:\n",
    "        print \"error\", exp    \n",
    "\n",
    "        \n",
    "# OSC server / clients\n",
    "oscclient = OSC.OSCClient()\n",
    "oscclient.connect( (\"localhost\", 8013) )\n",
    "   \n",
    "oscserver = OSC.OSCServer((\"localhost\", 8020))\n",
    "oscserver.timeout = 0\n",
    "\n",
    "oscserver.addMsgHandler( \"/generate_seq\", generate_seq_callback )\n",
    "oscserver.addMsgHandler( \"/variation_seq\", variation_seq_callback )\n",
    "oscserver.addMsgHandler( \"/interpolate_seq\", interpolate_seq_callback )\n",
    "oscserver.addMsgHandler( \"/stop_interpolation\", stop_interpolation_callback )\n",
    "st = threading.Thread( target = oscserver.serve_forever )\n",
    "st.start()\n",
    "print(\"ready\")"
   ]
  },
  {
   "cell_type": "code",
   "execution_count": null,
   "metadata": {
    "collapsed": true
   },
   "outputs": [],
   "source": []
  }
 ],
 "metadata": {
  "kernel_info": {
   "name": "python2"
  },
  "kernelspec": {
   "display_name": "Python 2",
   "language": "python",
   "name": "python2"
  },
  "language_info": {
   "codemirror_mode": {
    "name": "ipython",
    "version": 2
   },
   "file_extension": ".py",
   "mimetype": "text/x-python",
   "name": "python",
   "nbconvert_exporter": "python",
   "pygments_lexer": "ipython2",
   "version": "2.7.16"
  },
  "nteract": {
   "version": "0.12.3"
  }
 },
 "nbformat": 4,
 "nbformat_minor": 2
}
