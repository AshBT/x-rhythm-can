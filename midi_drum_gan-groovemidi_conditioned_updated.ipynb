{
 "cells": [
  {
   "cell_type": "markdown",
   "metadata": {},
   "source": [
    "# Constants"
   ]
  },
  {
   "cell_type": "code",
   "execution_count": 1,
   "metadata": {},
   "outputs": [],
   "source": [
    "import os\n",
    "os.environ['CUDA_VISIBLE_DEVICES'] = '2' # only relevant to my own environment"
   ]
  },
  {
   "cell_type": "markdown",
   "metadata": {},
   "source": [
    "I assume that you have downloaded MIDI dataset and uncompssed into `./midi_dataset/groove/` folder  \n",
    "https://magenta.tensorflow.org/datasets/groove"
   ]
  },
  {
   "cell_type": "code",
   "execution_count": 2,
   "metadata": {},
   "outputs": [],
   "source": [
    "DRUM_CLASSES = [\n",
    "   'Kick',\n",
    "   'Snare',\n",
    "   'Hi-hat closed',\n",
    "   'Hi-hat open',\n",
    "   'Tom low',\n",
    "   'Tom mid', \n",
    "   'Tom high',\n",
    "   'Clap',\n",
    "   'Rim' \n",
    "]\n",
    "MIDI_DRUM_MAP = {\n",
    "   36: 0,\n",
    "   35: 0,\n",
    "   38: 1,\n",
    "   27: 1,\n",
    "   28: 1,\n",
    "   31: 1,\n",
    "   32: 1,\n",
    "   33: 1,\n",
    "   34: 1,\n",
    "   37: 1,\n",
    "   39: 1,\n",
    "   40: 1,\n",
    "   56: 1,\n",
    "   65: 1,\n",
    "   66: 1,\n",
    "   75: 1,\n",
    "   85: 1,\n",
    "   42: 2,\n",
    "   44: 2,\n",
    "   54: 2,\n",
    "   68: 2,\n",
    "   69: 2,\n",
    "   70: 2,\n",
    "   71: 2,\n",
    "   73: 2,\n",
    "   78: 2,\n",
    "   80: 2,\n",
    "   46: 3,\n",
    "   67: 3,\n",
    "   72: 3,\n",
    "   74: 3,\n",
    "   79: 3,\n",
    "   81: 3,\n",
    "   45: 4,\n",
    "   29: 4,\n",
    "   41: 4,\n",
    "   61: 4,\n",
    "   64: 4,\n",
    "   84: 4,\n",
    "   48: 5,\n",
    "   47: 5,\n",
    "   60: 5,\n",
    "   63: 5,\n",
    "   77: 5,\n",
    "   86: 5,\n",
    "   87: 5,\n",
    "   50: 6,\n",
    "   30: 6,\n",
    "   43: 6,\n",
    "   62: 6,\n",
    "   76: 6,\n",
    "   83: 6,\n",
    "   49: 7,\n",
    "   55: 7,\n",
    "   57: 7,\n",
    "   58: 7,\n",
    "   51: 8,\n",
    "   52: 8,\n",
    "   53: 8,\n",
    "   59: 8,\n",
    "   82: 8\n",
    "}\n",
    "\n",
    "resolution  = 4 # separate quater into 4  = 16 notes per bar\n",
    "\n",
    "nb_bars = 2 \n",
    "\n",
    "len_seq = resolution * 4 * nb_bars # length of drumloops in training data - 2 bars\n",
    "    \n",
    "nb_notes = len(DRUM_CLASSES) # number of possible MIDI notes  - max_drum_note - min_drum_note\n"
   ]
  },
  {
   "cell_type": "markdown",
   "metadata": {},
   "source": [
    "# Training"
   ]
  },
  {
   "cell_type": "code",
   "execution_count": 3,
   "metadata": {},
   "outputs": [
    {
     "name": "stdout",
     "output_type": "stream",
     "text": [
      "[u'Old Skool' u'Trance' u'DnB' u'Basic' u'Downtempo' u'Jungle' u'House'\n",
      " u'Breakbeat' u'Garage' u'Techno']\n",
      "(49003,)\n",
      "[0, 2, 5, 6, 7, 8, 9]\n",
      "(7, [u'Old Skool', u'DnB', u'Jungle', u'House', u'Breakbeat', u'Garage', u'Techno'])\n",
      "(37950, 32, 9)\n",
      "(37950,)\n"
     ]
    }
   ],
   "source": [
    "import numpy as np\n",
    "\n",
    "matrices_drums = np.load(\"./tmp/matrices_drum_gm_electronic.npz\")['drum_data']\n",
    "matrices_genres = np.load(\"./tmp/matrices_drum_gm_electronic.npz\")['genre_ids']\n",
    "GENRES_ALL = np.load(\"./tmp/matrices_drum_gm_electronic.npz\")['genres']\n",
    "\n",
    "print(GENRES_ALL)\n",
    "print(matrices_genres.shape)\n",
    "\n",
    "# Filter genres \n",
    "GENRES_USED = [u'Old Skool', u'DnB', u'Jungle', u'House', u'Breakbeat', u'Garage', u'Techno']\n",
    "GENRES_ID_USED = [i for i, genre in enumerate(GENRES_ALL) if genre in GENRES_USED]\n",
    "GENRES = [genre for i, genre in enumerate(GENRES_ALL) if genre in GENRES_USED]\n",
    "NB_GENRES = len(GENRES)\n",
    "\n",
    "print(GENRES_ID_USED)\n",
    "print(NB_GENRES, GENRES)\n",
    "\n",
    "_drums = []\n",
    "_genres = []\n",
    "\n",
    "for genre_id, drum in zip(matrices_genres, matrices_drums):\n",
    "    if genre_id in GENRES_ID_USED:\n",
    "        _drums.append(drum)\n",
    "        _genres.append(genre_id)\n",
    "\n",
    "matrices_drums = np.array(_drums)\n",
    "print(matrices_drums.shape)\n",
    "matrices_genres = np.array(_genres)\n",
    "print(matrices_genres.shape)\n"
   ]
  },
  {
   "cell_type": "markdown",
   "metadata": {},
   "source": [
    "## Discriminator"
   ]
  },
  {
   "cell_type": "code",
   "execution_count": 4,
   "metadata": {},
   "outputs": [
    {
     "name": "stderr",
     "output_type": "stream",
     "text": [
      "Using TensorFlow backend.\n"
     ]
    },
    {
     "name": "stdout",
     "output_type": "stream",
     "text": [
      "__________________________________________________________________________________________________\n",
      "Layer (type)                    Output Shape         Param #     Connected to                     \n",
      "==================================================================================================\n",
      "input_1 (InputLayer)            (None, 1)            0                                            \n",
      "__________________________________________________________________________________________________\n",
      "embedding_1 (Embedding)         (None, 1, 288)       2016        input_1[0][0]                    \n",
      "__________________________________________________________________________________________________\n",
      "flatten_1 (Flatten)             (None, 288)          0           embedding_1[0][0]                \n",
      "__________________________________________________________________________________________________\n",
      "drum_input (InputLayer)         (None, 32, 9)        0                                            \n",
      "__________________________________________________________________________________________________\n",
      "reshape_1 (Reshape)             (None, 32, 9)        0           flatten_1[0][0]                  \n",
      "__________________________________________________________________________________________________\n",
      "concatenate_1 (Concatenate)     (None, 32, 18)       0           drum_input[0][0]                 \n",
      "                                                                 reshape_1[0][0]                  \n",
      "__________________________________________________________________________________________________\n",
      "bidirectional_1 (Bidirectional) (None, 32, 128)      42496       concatenate_1[0][0]              \n",
      "__________________________________________________________________________________________________\n",
      "bidirectional_2 (Bidirectional) (None, 32, 256)      263168      bidirectional_1[0][0]            \n",
      "__________________________________________________________________________________________________\n",
      "bidirectional_3 (Bidirectional) (None, 32, 32)       34944       bidirectional_2[0][0]            \n",
      "__________________________________________________________________________________________________\n",
      "reshape_2 (Reshape)             (None, 1024)         0           bidirectional_3[0][0]            \n",
      "__________________________________________________________________________________________________\n",
      "dense_1 (Dense)                 (None, 256)          262400      reshape_2[0][0]                  \n",
      "__________________________________________________________________________________________________\n",
      "leaky_re_lu_1 (LeakyReLU)       (None, 256)          0           dense_1[0][0]                    \n",
      "__________________________________________________________________________________________________\n",
      "dense_2 (Dense)                 (None, 1)            257         leaky_re_lu_1[0][0]              \n",
      "==================================================================================================\n",
      "Total params: 605,281\n",
      "Trainable params: 605,281\n",
      "Non-trainable params: 0\n",
      "__________________________________________________________________________________________________\n"
     ]
    }
   ],
   "source": [
    "import numpy as np\n",
    "from keras.layers import Input, Dense, Flatten, Dropout, Reshape, LSTM, Bidirectional\n",
    "from keras.layers import Embedding, Concatenate\n",
    "from keras.layers.convolutional import Conv2D\n",
    "\n",
    "from keras.layers.normalization import BatchNormalization\n",
    "from keras.layers.advanced_activations import LeakyReLU\n",
    "from keras.optimizers import RMSprop, Adam\n",
    "import keras.backend as K\n",
    "from keras.models import Model, Sequential\n",
    "\n",
    "batch_size = 16\n",
    "n_z = 4\n",
    "dropout_rate = 0.30\n",
    "\n",
    "# encoder\n",
    "drum_input = Input(shape=(len_seq, nb_notes), name='drum_input')  # tensorflow order\n",
    "\n",
    "# Conditioning label:\n",
    "# Integer 0-NB_GENRES denoting the genre G should generate\n",
    "label_input = Input(shape=(1,), dtype='int32')\n",
    "\n",
    "# Embedding layer:\n",
    "# Turns labels into dense vectors of size z_dim\n",
    "# Produces 3D tensor with shape: (batch_size, 1, 28*28*1)\n",
    "label_embedding = Embedding(NB_GENRES, np.prod((len_seq, nb_notes)), input_length=1)(label_input)\n",
    "\n",
    "# Flatten the embedding 3D tensor into 2D tensor with shape:(batch_size, 28*28*1)\n",
    "label_embedding = Flatten()(label_embedding)\n",
    "\n",
    "# Reshape label embeddings to have same dimensions as input images\n",
    "label_embedding = Reshape((len_seq, nb_notes))(label_embedding)\n",
    "\n",
    "# Concatenate images with corresponding label embeddings\n",
    "concatenated = Concatenate(axis=-1)([drum_input, label_embedding])\n",
    "\n",
    "\n",
    "x = Bidirectional(LSTM(64, return_sequences=True, activation='tanh'))(concatenated) \n",
    "x = Bidirectional(LSTM(128, return_sequences=True, activation='tanh'))(x)\n",
    "x = Bidirectional(LSTM(16, return_sequences=True, activation='tanh'))(x)\n",
    "x = Reshape((1024,))(x)\n",
    "# x = Dense(512)(x)\n",
    "# x = LeakyReLU(alpha=0.01)(x)\n",
    "x = Dense(256)(x)\n",
    "x = LeakyReLU(alpha=0.01)(x)\n",
    "output = Dense(1, activation='sigmoid')(x)\n",
    "\n",
    "discriminator = Model([drum_input, label_input], output)\n",
    "discriminator.summary()\n",
    "\n",
    "optimizer = Adam(lr=0.00001) # higher leraning rate for D\n",
    "discriminator.compile(optimizer=optimizer, loss='binary_crossentropy', \n",
    "                      metrics=['accuracy'])"
   ]
  },
  {
   "cell_type": "markdown",
   "metadata": {},
   "source": [
    "## GENERATOR "
   ]
  },
  {
   "cell_type": "code",
   "execution_count": 5,
   "metadata": {},
   "outputs": [
    {
     "name": "stdout",
     "output_type": "stream",
     "text": [
      "__________________________________________________________________________________________________\n",
      "Layer (type)                    Output Shape         Param #     Connected to                     \n",
      "==================================================================================================\n",
      "input_3 (InputLayer)            (None, 1)            0                                            \n",
      "__________________________________________________________________________________________________\n",
      "embedding_2 (Embedding)         (None, 1, 100)       700         input_3[0][0]                    \n",
      "__________________________________________________________________________________________________\n",
      "input_2 (InputLayer)            (None, 100)          0                                            \n",
      "__________________________________________________________________________________________________\n",
      "flatten_2 (Flatten)             (None, 100)          0           embedding_2[0][0]                \n",
      "__________________________________________________________________________________________________\n",
      "multiply_1 (Multiply)           (None, 100)          0           input_2[0][0]                    \n",
      "                                                                 flatten_2[0][0]                  \n",
      "__________________________________________________________________________________________________\n",
      "dense_3 (Dense)                 (None, 512)          51712       multiply_1[0][0]                 \n",
      "__________________________________________________________________________________________________\n",
      "leaky_re_lu_2 (LeakyReLU)       (None, 512)          0           dense_3[0][0]                    \n",
      "__________________________________________________________________________________________________\n",
      "batch_normalization_1 (BatchNor (None, 512)          2048        leaky_re_lu_2[0][0]              \n",
      "__________________________________________________________________________________________________\n",
      "dense_4 (Dense)                 (None, 1024)         525312      batch_normalization_1[0][0]      \n",
      "__________________________________________________________________________________________________\n",
      "leaky_re_lu_3 (LeakyReLU)       (None, 1024)         0           dense_4[0][0]                    \n",
      "__________________________________________________________________________________________________\n",
      "batch_normalization_2 (BatchNor (None, 1024)         4096        leaky_re_lu_3[0][0]              \n",
      "__________________________________________________________________________________________________\n",
      "reshape_3 (Reshape)             (None, 32, 32)       0           batch_normalization_2[0][0]      \n",
      "__________________________________________________________________________________________________\n",
      "dropout_1 (Dropout)             (None, 32, 32)       0           reshape_3[0][0]                  \n",
      "__________________________________________________________________________________________________\n",
      "lstm_4 (LSTM)                   (None, 32, 128)      82432       dropout_1[0][0]                  \n",
      "__________________________________________________________________________________________________\n",
      "lstm_5 (LSTM)                   (None, 32, 128)      131584      lstm_4[0][0]                     \n",
      "__________________________________________________________________________________________________\n",
      "lstm_6 (LSTM)                   (None, 32, 9)        4968        lstm_5[0][0]                     \n",
      "__________________________________________________________________________________________________\n",
      "leaky_re_lu_4 (LeakyReLU)       (None, 32, 9)        0           lstm_6[0][0]                     \n",
      "==================================================================================================\n",
      "Total params: 802,852\n",
      "Trainable params: 799,780\n",
      "Non-trainable params: 3,072\n",
      "__________________________________________________________________________________________________\n"
     ]
    }
   ],
   "source": [
    "from keras.layers import Reshape, Conv2DTranspose, RepeatVector, Activation,Bidirectional,multiply\n",
    "from keras.layers.normalization import BatchNormalization\n",
    "from keras.layers.convolutional import UpSampling2D\n",
    "\n",
    "len_input = 100\n",
    "\n",
    "z_input = Input(shape=(len_input,))  # tensorflow order\n",
    "\n",
    "# Conditioning label\n",
    "label_input = Input(shape=(1,), dtype='int32')\n",
    "label_embedding = Embedding(NB_GENRES, len_input, input_length=1)(label_input)\n",
    "label_embedding = Flatten()(label_embedding)\n",
    "\n",
    "# Element-wise product of the vectors z and the label embeddings\n",
    "inputs2 = multiply([z_input, label_embedding])\n",
    "\n",
    "# \n",
    "x = Dense(512)(inputs2)\n",
    "x = LeakyReLU(alpha=0.2)(x)\n",
    "x = BatchNormalization(momentum=0.9)(x)\n",
    "x = Dense(1024)(x)\n",
    "x = LeakyReLU(alpha=0.2)(x)\n",
    "x = BatchNormalization(momentum=0.9)(x)\n",
    "x = Reshape((32, 32))(x)\n",
    "x = Dropout(dropout_rate)(x)\n",
    "\n",
    "x = LSTM(128, return_sequences=True, activation='tanh')(x) \n",
    "x = LSTM(128, return_sequences=True, activation='tanh')(x)\n",
    "x = LSTM(9, return_sequences=True)(x)\n",
    "note_out = LeakyReLU()(x)\n",
    "\n",
    "generator = Model([z_input, label_input], note_out)\n",
    "generator.summary()"
   ]
  },
  {
   "cell_type": "markdown",
   "metadata": {},
   "source": [
    "## ADVERSARIAL MODEL "
   ]
  },
  {
   "cell_type": "code",
   "execution_count": 6,
   "metadata": {},
   "outputs": [
    {
     "name": "stdout",
     "output_type": "stream",
     "text": [
      "__________________________________________________________________________________________________\n",
      "Layer (type)                    Output Shape         Param #     Connected to                     \n",
      "==================================================================================================\n",
      "input_4 (InputLayer)            (None, 100)          0                                            \n",
      "__________________________________________________________________________________________________\n",
      "input_5 (InputLayer)            (None, 1)            0                                            \n",
      "__________________________________________________________________________________________________\n",
      "model_2 (Model)                 (None, 32, 9)        802852      input_4[0][0]                    \n",
      "                                                                 input_5[0][0]                    \n",
      "__________________________________________________________________________________________________\n",
      "model_1 (Model)                 (None, 1)            605281      model_2[1][0]                    \n",
      "                                                                 input_5[0][0]                    \n",
      "==================================================================================================\n",
      "Total params: 1,408,133\n",
      "Trainable params: 799,780\n",
      "Non-trainable params: 608,353\n",
      "__________________________________________________________________________________________________\n"
     ]
    }
   ],
   "source": [
    "\n",
    "from keras.models import Sequential\n",
    "\n",
    "\n",
    "# define input for the combined GAN model\n",
    "z_input = Input(shape=(len_input,))  # tensorflow order\n",
    "label_input = Input(shape=(1,), dtype='int32')\n",
    "img_gan = generator([z_input, label_input])\n",
    "\n",
    "# training is disable for discriminator in adversarial model\n",
    "discriminator.trainable = False \n",
    "\n",
    "# define output\n",
    "prediction_gan = discriminator([img_gan, label_input])\n",
    "\n",
    "# define combined GAN model\n",
    "gan = Model([z_input, label_input], prediction_gan)\n",
    "optimizer = Adam(lr=0.001)\n",
    "gan.compile(optimizer=optimizer, loss='binary_crossentropy')\n",
    "gan.summary()"
   ]
  },
  {
   "cell_type": "markdown",
   "metadata": {},
   "source": [
    "## Training"
   ]
  },
  {
   "cell_type": "code",
   "execution_count": 7,
   "metadata": {},
   "outputs": [],
   "source": [
    "from IPython.display import clear_output\n",
    "import matplotlib.pyplot as plt\n",
    "%matplotlib inline\n",
    "\n",
    "# Create Z for generator\n",
    "def get_noise(batch_size, len_input):\n",
    "#    noise = np.random.uniform(-1.0, 1.0, size=[batch_size, len_input])\n",
    "    \n",
    "    # better to use a spherical Z. according to https://github.com/soumith/ganhacks\n",
    "    noise = np.random.normal(0.0, 0.50, size=[batch_size, len_input])\n",
    "    return noise\n",
    "\n",
    "def plot_drum_matrix(a):\n",
    "    if a is not None:\n",
    "        a = np.transpose(np.squeeze(a))\n",
    "        plt.matshow(a)\n",
    "        plt.show()  "
   ]
  },
  {
   "cell_type": "code",
   "execution_count": 8,
   "metadata": {},
   "outputs": [
    {
     "name": "stdout",
     "output_type": "stream",
     "text": [
      "tensorboard --logdir=/tmp/tf_logs/20190729-162646/\n"
     ]
    }
   ],
   "source": [
    "from tensorboard_logger import configure, log_value\n",
    "\n",
    "from datetime import datetime\n",
    "now = datetime.now()\n",
    "logdir = \"/tmp/tf_logs/\" + now.strftime(\"%Y%m%d-%H%M%S\") + \"/\"\n",
    "cmd = \"tensorboard --logdir=\" + logdir\n",
    "print cmd\n",
    "\n",
    "configure(logdir, flush_secs=5)"
   ]
  },
  {
   "cell_type": "code",
   "execution_count": 9,
   "metadata": {},
   "outputs": [],
   "source": [
    "gan.load_weights(\"./tmp/c_gan-epoch-044-0.89933.h5\")\n",
    "discriminator.load_weights(\"./tmp/c_discriminator-epoch-044-0.30924.h5\")\n",
    "generator.load_weights(\"./tmp/c_generator-epoch-044-0.89933.h5\")"
   ]
  },
  {
   "cell_type": "code",
   "execution_count": null,
   "metadata": {
    "scrolled": false
   },
   "outputs": [
    {
     "name": "stderr",
     "output_type": "stream",
     "text": [
      "/home/nao/anaconda2/lib/python2.7/site-packages/keras/engine/training.py:479: UserWarning: Discrepancy between trainable weights and collected trainable weights, did you set `model.trainable` without calling `model.compile` after ?\n",
      "  'Discrepancy between trainable weights and collected trainable'\n"
     ]
    },
    {
     "name": "stdout",
     "output_type": "stream",
     "text": [
      "('epoch', 45, 0)\n",
      "('d_loss', 0.3723007142543793, 'a_loss', 0.6965815)\n",
      "('d_accuracy', 0.46484375)\n",
      "(array([[4]]), u'Breakbeat')\n"
     ]
    },
    {
     "data": {
      "image/png": "[encoded data removed]",
      "text/plain": [
       "<Figure size 1024x288 with 1 Axes>"
      ]
     },
     "metadata": {},
     "output_type": "display_data"
    },
    {
     "name": "stdout",
     "output_type": "stream",
     "text": [
      "\n",
      "\n",
      "Pausing D\n",
      "Pausing D\n",
      "Pausing D\n",
      "Pausing D\n",
      "Pausing D\n",
      "Pausing D\n",
      "Pausing D\n",
      "Pausing D\n",
      "Pausing D\n",
      "Pausing D\n",
      "Pausing D\n",
      "Pausing D\n",
      "Pausing D\n",
      "Pausing D\n",
      "('epoch', 45, 100)\n",
      "('d_loss', 0.34335993230342865, 'a_loss', 0.7012941)\n",
      "('d_accuracy', 0.45703125)\n",
      "(array([[6]]), u'Techno')\n"
     ]
    },
    {
     "data": {
      "image/png": "[encoded data removed]",
      "text/plain": [
       "<Figure size 1024x288 with 1 Axes>"
      ]
     },
     "metadata": {},
     "output_type": "display_data"
    },
    {
     "name": "stdout",
     "output_type": "stream",
     "text": [
      "\n",
      "\n",
      "Pausing D\n",
      "Pausing D\n",
      "Pausing D\n",
      "Pausing D\n",
      "Pausing D\n",
      "Pausing D\n",
      "Pausing D\n",
      "Pausing D\n",
      "Pausing D\n",
      "Pausing D\n",
      "Pausing D\n",
      "Pausing D\n",
      "Pausing D\n",
      "Pausing D\n",
      "Pausing D\n",
      "Pausing D\n",
      "Pausing D\n",
      "Pausing D\n",
      "Pausing D\n",
      "Pausing D\n",
      "Pausing D\n",
      "Pausing D\n",
      "Pausing D\n",
      "Pausing D\n",
      "('epoch', 45, 200)\n",
      "('d_loss', 0.3490629941225052, 'a_loss', 1.1475179)\n",
      "('d_accuracy', 0.46875)\n",
      "(array([[1]]), u'DnB')\n"
     ]
    },
    {
     "data": {
      "image/png": "[encoded data removed]",
      "text/plain": [
       "<Figure size 1024x288 with 1 Axes>"
      ]
     },
     "metadata": {},
     "output_type": "display_data"
    },
    {
     "name": "stdout",
     "output_type": "stream",
     "text": [
      "\n",
      "\n",
      "Pausing D\n",
      "Pausing D\n",
      "Pausing D\n",
      "Pausing D\n",
      "Pausing D\n",
      "Pausing D\n",
      "Pausing D\n",
      "Pausing D\n",
      "Pausing D\n",
      "Pausing D\n",
      "Pausing D\n",
      "Pausing D\n",
      "Pausing D\n",
      "Pausing D\n",
      "Pausing D\n",
      "Pausing D\n",
      "('epoch', 45, 300)\n",
      "('d_loss', 0.3761145994067192, 'a_loss', 0.5931063)\n",
      "('d_accuracy', 0.4609375)\n",
      "(array([[1]]), u'DnB')\n"
     ]
    },
    {
     "data": {
      "image/png": "[encoded data removed]",
      "text/plain": [
       "<Figure size 1024x288 with 1 Axes>"
      ]
     },
     "metadata": {},
     "output_type": "display_data"
    },
    {
     "name": "stdout",
     "output_type": "stream",
     "text": [
      "\n",
      "\n",
      "Pausing D\n",
      "Pausing D\n",
      "Pausing D\n",
      "Pausing D\n",
      "Pausing D\n",
      "Pausing D\n",
      "Pausing D\n",
      "Pausing D\n",
      "Pausing D\n",
      "Pausing D\n",
      "Pausing D\n",
      "Pausing D\n",
      "Pausing D\n",
      "Pausing D\n",
      "Pausing D\n",
      "Pausing D\n",
      "Pausing D\n",
      "('epoch', 45, 400)\n",
      "('d_loss', 0.3665568381547928, 'a_loss', 0.8701931)\n",
      "('d_accuracy', 0.46484375)\n",
      "(array([[6]]), u'Techno')\n"
     ]
    },
    {
     "data": {
      "image/png": "[encoded data removed]",
      "text/plain": [
       "<Figure size 1024x288 with 1 Axes>"
      ]
     },
     "metadata": {},
     "output_type": "display_data"
    },
    {
     "name": "stdout",
     "output_type": "stream",
     "text": [
      "\n",
      "\n",
      "Pausing D\n",
      "Pausing D\n",
      "Pausing D\n",
      "Pausing D\n",
      "Pausing D\n",
      "Pausing D\n",
      "Pausing D\n",
      "Pausing D\n",
      "Pausing D\n",
      "Pausing D\n",
      "Pausing D\n",
      "('epoch', 45, 500)\n",
      "('d_loss', 0.34642502665519714, 'a_loss', 1.3908304)\n",
      "('d_accuracy', 0.47265625)\n",
      "(array([[1]]), u'DnB')\n"
     ]
    },
    {
     "data": {
      "image/png": "[encoded data removed]",
      "text/plain": [
       "<Figure size 1024x288 with 1 Axes>"
      ]
     },
     "metadata": {},
     "output_type": "display_data"
    },
    {
     "name": "stdout",
     "output_type": "stream",
     "text": [
      "\n",
      "\n",
      "Pausing D\n",
      "Pausing D\n",
      "Pausing D\n",
      "Pausing D\n",
      "Pausing D\n",
      "Pausing D\n",
      "Pausing D\n",
      "Pausing D\n",
      "Pausing D\n",
      "Pausing D\n",
      "Pausing D\n",
      "Pausing D\n",
      "Pausing D\n",
      "Pausing D\n",
      "Pausing D\n",
      "('epoch', 45, 600)\n",
      "('d_loss', 0.3444605618715286, 'a_loss', 0.8990803)\n",
      "('d_accuracy', 0.4453125)\n",
      "(array([[1]]), u'DnB')\n"
     ]
    },
    {
     "data": {
      "image/png": "[encoded data removed]",
      "text/plain": [
       "<Figure size 1024x288 with 1 Axes>"
      ]
     },
     "metadata": {},
     "output_type": "display_data"
    },
    {
     "name": "stdout",
     "output_type": "stream",
     "text": [
      "\n",
      "\n",
      "Pausing D\n",
      "Pausing D\n",
      "Pausing D\n",
      "Pausing D\n",
      "Pausing D\n",
      "Pausing D\n",
      "Pausing D\n",
      "Pausing D\n",
      "Pausing D\n",
      "Pausing D\n",
      "Pausing D\n",
      "Pausing D\n",
      "Pausing D\n",
      "Pausing D\n",
      "Pausing D\n",
      "Pausing D\n",
      "Pausing D\n",
      "Pausing D\n",
      "Pausing D\n",
      "Pausing D\n",
      "('epoch', 45, 700)\n",
      "('d_loss', 0.36671749502420425, 'a_loss', 1.009875)\n",
      "('d_accuracy', 0.45703125)\n",
      "(array([[4]]), u'Breakbeat')\n"
     ]
    },
    {
     "data": {
      "image/png": "[encoded data removed]",
      "text/plain": [
       "<Figure size 1024x288 with 1 Axes>"
      ]
     },
     "metadata": {},
     "output_type": "display_data"
    },
    {
     "name": "stdout",
     "output_type": "stream",
     "text": [
      "\n",
      "\n",
      "Pausing D\n",
      "Pausing D\n",
      "Pausing D\n",
      "Pausing D\n",
      "Pausing D\n",
      "Pausing D\n",
      "Pausing D\n",
      "Pausing D\n",
      "Pausing D\n",
      "Pausing D\n",
      "Pausing D\n",
      "Pausing D\n",
      "Pausing D\n",
      "Pausing D\n",
      "Pausing D\n",
      "Pausing D\n",
      "Pausing D\n",
      "Pausing D\n",
      "Pausing D\n",
      "Pausing D\n",
      "Pausing D\n",
      "Pausing D\n",
      "('epoch', 45, 800)\n",
      "('d_loss', 0.3431885689496994, 'a_loss', 0.8552303)\n",
      "('d_accuracy', 0.4765625)\n",
      "(array([[5]]), u'Garage')\n"
     ]
    },
    {
     "data": {
      "image/png": "[encoded data removed]",
      "text/plain": [
       "<Figure size 1024x288 with 1 Axes>"
      ]
     },
     "metadata": {},
     "output_type": "display_data"
    },
    {
     "name": "stdout",
     "output_type": "stream",
     "text": [
      "\n",
      "\n",
      "Pausing D\n",
      "Pausing D\n",
      "Pausing D\n",
      "Pausing D\n",
      "Pausing D\n",
      "Pausing D\n",
      "Pausing D\n",
      "Pausing D\n",
      "Pausing D\n",
      "Pausing D\n",
      "Pausing D\n",
      "Pausing D\n",
      "Pausing D\n",
      "('epoch', 45, 900)\n",
      "('d_loss', 0.3118116408586502, 'a_loss', 0.561273)\n",
      "('d_accuracy', 0.47265625)\n",
      "(array([[5]]), u'Garage')\n"
     ]
    },
    {
     "data": {
      "image/png": "[encoded data removed]",
      "text/plain": [
       "<Figure size 1024x288 with 1 Axes>"
      ]
     },
     "metadata": {},
     "output_type": "display_data"
    },
    {
     "name": "stdout",
     "output_type": "stream",
     "text": [
      "\n",
      "\n",
      "Pausing D\n",
      "Pausing D\n",
      "Pausing D\n",
      "Pausing D\n",
      "Pausing D\n",
      "Pausing D\n",
      "Pausing D\n",
      "Pausing D\n",
      "Pausing D\n",
      "Pausing D\n",
      "Pausing D\n",
      "Pausing D\n",
      "('epoch', 45, 1000)\n",
      "('d_loss', 0.3643213361501694, 'a_loss', 1.0528494)\n",
      "('d_accuracy', 0.47265625)\n",
      "(array([[2]]), u'Jungle')\n"
     ]
    },
    {
     "data": {
      "image/png": "[encoded data removed]",
      "text/plain": [
       "<Figure size 1024x288 with 1 Axes>"
      ]
     },
     "metadata": {},
     "output_type": "display_data"
    },
    {
     "name": "stdout",
     "output_type": "stream",
     "text": [
      "\n",
      "\n",
      "Pausing D\n",
      "Pausing D\n",
      "Pausing D\n",
      "Pausing D\n",
      "Pausing D\n",
      "Pausing D\n",
      "Pausing D\n",
      "Pausing D\n",
      "Pausing D\n",
      "Pausing D\n",
      "Pausing D\n",
      "Pausing D\n",
      "Pausing D\n",
      "Pausing D\n",
      "Pausing D\n",
      "Pausing D\n",
      "Pausing D\n",
      "Pausing D\n",
      "Pausing D\n",
      "Pausing D\n",
      "('epoch', 45, 1100)\n",
      "('d_loss', 0.3528394177556038, 'a_loss', 1.2173235)\n",
      "('d_accuracy', 0.47265625)\n",
      "(array([[1]]), u'DnB')\n"
     ]
    },
    {
     "data": {
      "image/png": "[encoded data removed]",
      "text/plain": [
       "<Figure size 1024x288 with 1 Axes>"
      ]
     },
     "metadata": {},
     "output_type": "display_data"
    },
    {
     "name": "stdout",
     "output_type": "stream",
     "text": [
      "\n",
      "\n",
      "Pausing D\n",
      "Pausing D\n",
      "Pausing D\n",
      "Pausing D\n",
      "Pausing D\n",
      "Pausing D\n",
      "Pausing D\n",
      "Pausing D\n",
      "Pausing D\n",
      "Pausing D\n",
      "Pausing D\n",
      "Pausing D\n",
      "Pausing D\n",
      "Pausing D\n",
      "('epoch', 46, 0)\n",
      "('d_loss', 0.34489013999700546, 'a_loss', 0.6051409)\n",
      "('d_accuracy', 0.47265625)\n",
      "(array([[1]]), u'DnB')\n"
     ]
    },
    {
     "data": {
      "image/png": "[encoded data removed]",
      "text/plain": [
       "<Figure size 1024x288 with 1 Axes>"
      ]
     },
     "metadata": {},
     "output_type": "display_data"
    },
    {
     "name": "stdout",
     "output_type": "stream",
     "text": [
      "\n",
      "\n",
      "Pausing D\n",
      "Pausing D\n",
      "Pausing D\n",
      "Pausing D\n",
      "Pausing D\n",
      "Pausing D\n",
      "Pausing D\n",
      "Pausing D\n",
      "Pausing D\n",
      "Pausing D\n",
      "Pausing D\n",
      "Pausing D\n",
      "Pausing D\n",
      "Pausing D\n",
      "('epoch', 46, 100)\n",
      "('d_loss', 0.39555657655000687, 'a_loss', 0.87277114)\n",
      "('d_accuracy', 0.46484375)\n",
      "(array([[2]]), u'Jungle')\n"
     ]
    },
    {
     "data": {
      "image/png": "[encoded data removed]",
      "text/plain": [
       "<Figure size 1024x288 with 1 Axes>"
      ]
     },
     "metadata": {},
     "output_type": "display_data"
    },
    {
     "name": "stdout",
     "output_type": "stream",
     "text": [
      "\n",
      "\n",
      "Pausing D\n",
      "Pausing D\n",
      "Pausing D\n",
      "Pausing D\n",
      "Pausing D\n",
      "Pausing D\n",
      "Pausing D\n",
      "Pausing D\n",
      "Pausing D\n",
      "Pausing D\n",
      "('epoch', 46, 200)\n",
      "('d_loss', 0.3551424965262413, 'a_loss', 0.46951288)\n",
      "('d_accuracy', 0.44921875)\n",
      "(array([[2]]), u'Jungle')\n"
     ]
    },
    {
     "data": {
      "image/png": "[encoded data removed]",
      "text/plain": [
       "<Figure size 1024x288 with 1 Axes>"
      ]
     },
     "metadata": {},
     "output_type": "display_data"
    },
    {
     "name": "stdout",
     "output_type": "stream",
     "text": [
      "\n",
      "\n",
      "Pausing D\n",
      "Pausing D\n",
      "Pausing D\n",
      "Pausing D\n",
      "Pausing D\n",
      "Pausing D\n",
      "Pausing D\n",
      "Pausing D\n",
      "Pausing D\n",
      "Pausing D\n",
      "Pausing D\n",
      "Pausing D\n",
      "Pausing D\n",
      "Pausing D\n",
      "Pausing D\n",
      "Pausing D\n",
      "Pausing D\n",
      "('epoch', 46, 300)\n",
      "('d_loss', 0.3429674804210663, 'a_loss', 0.8841949)\n",
      "('d_accuracy', 0.4609375)\n",
      "(array([[0]]), u'Old Skool')\n"
     ]
    },
    {
     "data": {
      "image/png": "[encoded data removed]",
      "text/plain": [
       "<Figure size 1024x288 with 1 Axes>"
      ]
     },
     "metadata": {},
     "output_type": "display_data"
    },
    {
     "name": "stdout",
     "output_type": "stream",
     "text": [
      "\n",
      "\n",
      "Pausing D\n",
      "Pausing D\n",
      "Pausing D\n",
      "Pausing D\n",
      "Pausing D\n",
      "Pausing D\n",
      "Pausing D\n",
      "Pausing D\n",
      "Pausing D\n",
      "Pausing D\n",
      "Pausing D\n",
      "Pausing D\n",
      "Pausing D\n",
      "Pausing D\n",
      "Pausing D\n",
      "Pausing D\n",
      "('epoch', 46, 400)\n",
      "('d_loss', 0.30554021894931793, 'a_loss', 0.8533908)\n",
      "('d_accuracy', 0.4765625)\n",
      "(array([[0]]), u'Old Skool')\n"
     ]
    },
    {
     "data": {
      "image/png": "[encoded data removed]",
      "text/plain": [
       "<Figure size 1024x288 with 1 Axes>"
      ]
     },
     "metadata": {},
     "output_type": "display_data"
    },
    {
     "name": "stdout",
     "output_type": "stream",
     "text": [
      "\n",
      "\n",
      "Pausing D\n",
      "Pausing D\n",
      "Pausing D\n",
      "Pausing D\n",
      "Pausing D\n",
      "Pausing D\n",
      "Pausing D\n",
      "Pausing D\n",
      "Pausing D\n",
      "Pausing D\n",
      "Pausing D\n",
      "Pausing D\n",
      "Pausing D\n",
      "Pausing D\n",
      "Pausing D\n",
      "Pausing D\n",
      "Pausing D\n",
      "Pausing D\n",
      "Pausing D\n",
      "('epoch', 46, 500)\n",
      "('d_loss', 0.3219612091779709, 'a_loss', 1.3161179)\n",
      "('d_accuracy', 0.47265625)\n",
      "(array([[2]]), u'Jungle')\n"
     ]
    },
    {
     "data": {
      "image/png": "[encoded data removed]",
      "text/plain": [
       "<Figure size 1024x288 with 1 Axes>"
      ]
     },
     "metadata": {},
     "output_type": "display_data"
    },
    {
     "name": "stdout",
     "output_type": "stream",
     "text": [
      "\n",
      "\n",
      "Pausing D\n",
      "Pausing D\n",
      "Pausing D\n",
      "Pausing D\n",
      "Pausing D\n",
      "Pausing D\n",
      "Pausing D\n",
      "Pausing D\n",
      "Pausing D\n",
      "Pausing D\n",
      "Pausing D\n",
      "Pausing D\n",
      "('epoch', 46, 600)\n",
      "('d_loss', 0.329746350646019, 'a_loss', 0.8091928)\n",
      "('d_accuracy', 0.4765625)\n",
      "(array([[0]]), u'Old Skool')\n"
     ]
    },
    {
     "data": {
      "image/png": "[encoded data removed]",
      "text/plain": [
       "<Figure size 1024x288 with 1 Axes>"
      ]
     },
     "metadata": {},
     "output_type": "display_data"
    },
    {
     "name": "stdout",
     "output_type": "stream",
     "text": [
      "\n",
      "\n",
      "Pausing D\n",
      "Pausing D\n",
      "Pausing D\n",
      "Pausing D\n",
      "Pausing D\n",
      "Pausing D\n",
      "Pausing D\n",
      "Pausing D\n",
      "Pausing D\n",
      "Pausing D\n",
      "Pausing D\n",
      "Pausing D\n",
      "Pausing D\n",
      "Pausing D\n",
      "Pausing D\n",
      "Pausing D\n",
      "Pausing D\n",
      "Pausing D\n",
      "Pausing D\n",
      "Pausing D\n",
      "Pausing D\n",
      "('epoch', 46, 700)\n",
      "('d_loss', 0.3589363619685173, 'a_loss', 1.0718)\n",
      "('d_accuracy', 0.4765625)\n",
      "(array([[1]]), u'DnB')\n"
     ]
    },
    {
     "data": {
      "image/png": "[encoded data removed]",
      "text/plain": [
       "<Figure size 1024x288 with 1 Axes>"
      ]
     },
     "metadata": {},
     "output_type": "display_data"
    },
    {
     "name": "stdout",
     "output_type": "stream",
     "text": [
      "\n",
      "\n",
      "Pausing D\n",
      "Pausing D\n",
      "Pausing D\n",
      "Pausing D\n",
      "Pausing D\n",
      "Pausing D\n",
      "Pausing D\n",
      "Pausing D\n",
      "Pausing D\n",
      "Pausing D\n",
      "Pausing D\n",
      "Pausing D\n",
      "('epoch', 46, 800)\n",
      "('d_loss', 0.367249995470047, 'a_loss', 0.97946095)\n",
      "('d_accuracy', 0.45703125)\n",
      "(array([[0]]), u'Old Skool')\n"
     ]
    },
    {
     "data": {
      "image/png": "[encoded data removed]",
      "text/plain": [
       "<Figure size 1024x288 with 1 Axes>"
      ]
     },
     "metadata": {},
     "output_type": "display_data"
    },
    {
     "name": "stdout",
     "output_type": "stream",
     "text": [
      "\n",
      "\n",
      "Pausing D\n",
      "Pausing D\n",
      "Pausing D\n",
      "Pausing D\n",
      "Pausing D\n",
      "Pausing D\n",
      "Pausing D\n",
      "Pausing D\n",
      "Pausing D\n",
      "Pausing D\n",
      "Pausing D\n",
      "Pausing D\n",
      "Pausing D\n",
      "Pausing D\n",
      "('epoch', 46, 900)\n",
      "('d_loss', 0.3801102563738823, 'a_loss', 0.77700245)\n",
      "('d_accuracy', 0.47265625)\n",
      "(array([[6]]), u'Techno')\n"
     ]
    },
    {
     "data": {
      "image/png": "[encoded data removed]",
      "text/plain": [
       "<Figure size 1024x288 with 1 Axes>"
      ]
     },
     "metadata": {},
     "output_type": "display_data"
    },
    {
     "name": "stdout",
     "output_type": "stream",
     "text": [
      "\n",
      "\n",
      "Pausing D\n",
      "Pausing D\n",
      "Pausing D\n",
      "Pausing D\n",
      "Pausing D\n",
      "Pausing D\n",
      "Pausing D\n",
      "Pausing D\n",
      "Pausing D\n",
      "Pausing D\n",
      "Pausing D\n",
      "Pausing D\n",
      "Pausing D\n",
      "Pausing D\n",
      "Pausing D\n",
      "Pausing D\n",
      "('epoch', 46, 1000)\n",
      "('d_loss', 0.3848847597837448, 'a_loss', 0.931085)\n",
      "('d_accuracy', 0.4453125)\n",
      "(array([[4]]), u'Breakbeat')\n"
     ]
    },
    {
     "data": {
      "image/png": "[encoded data removed]",
      "text/plain": [
       "<Figure size 1024x288 with 1 Axes>"
      ]
     },
     "metadata": {},
     "output_type": "display_data"
    },
    {
     "name": "stdout",
     "output_type": "stream",
     "text": [
      "\n",
      "\n",
      "Pausing D\n",
      "Pausing D\n",
      "Pausing D\n",
      "Pausing D\n",
      "Pausing D\n",
      "Pausing D\n",
      "Pausing D\n",
      "Pausing D\n",
      "Pausing D\n",
      "Pausing D\n",
      "Pausing D\n",
      "Pausing D\n",
      "Pausing D\n",
      "Pausing D\n",
      "Pausing D\n",
      "Pausing D\n",
      "Pausing D\n",
      "('epoch', 46, 1100)\n",
      "('d_loss', 0.3316314369440079, 'a_loss', 0.9348824)\n",
      "('d_accuracy', 0.47265625)\n",
      "(array([[0]]), u'Old Skool')\n"
     ]
    },
    {
     "data": {
      "image/png": "[encoded data removed]",
      "text/plain": [
       "<Figure size 1024x288 with 1 Axes>"
      ]
     },
     "metadata": {},
     "output_type": "display_data"
    },
    {
     "name": "stdout",
     "output_type": "stream",
     "text": [
      "\n",
      "\n",
      "Pausing D\n",
      "Pausing D\n",
      "Pausing D\n",
      "Pausing D\n",
      "Pausing D\n",
      "Pausing D\n",
      "Pausing D\n",
      "Pausing D\n",
      "Pausing D\n",
      "Pausing D\n",
      "Pausing D\n",
      "Pausing D\n",
      "Pausing D\n",
      "Pausing D\n",
      "Pausing D\n",
      "Pausing D\n",
      "Pausing D\n",
      "Pausing D\n",
      "Pausing D\n",
      "('epoch', 47, 0)\n",
      "('d_loss', 0.3859250843524933, 'a_loss', 0.9419912)\n",
      "('d_accuracy', 0.45703125)\n",
      "(array([[1]]), u'DnB')\n"
     ]
    },
    {
     "data": {
      "image/png": "[encoded data removed]",
      "text/plain": [
       "<Figure size 1024x288 with 1 Axes>"
      ]
     },
     "metadata": {},
     "output_type": "display_data"
    },
    {
     "name": "stdout",
     "output_type": "stream",
     "text": [
      "\n",
      "\n",
      "Pausing D\n",
      "Pausing D\n",
      "Pausing D\n",
      "Pausing D\n",
      "Pausing D\n",
      "Pausing D\n",
      "Pausing D\n",
      "Pausing D\n",
      "Pausing D\n",
      "Pausing D\n",
      "Pausing D\n",
      "Pausing D\n",
      "Pausing D\n",
      "Pausing D\n",
      "Pausing D\n",
      "Pausing D\n",
      "Pausing D\n",
      "Pausing D\n",
      "Pausing D\n",
      "Pausing D\n",
      "Pausing D\n",
      "Pausing D\n",
      "('epoch', 47, 100)\n",
      "('d_loss', 0.3165268898010254, 'a_loss', 1.0555851)\n",
      "('d_accuracy', 0.45703125)\n",
      "(array([[3]]), u'House')\n"
     ]
    },
    {
     "data": {
      "image/png": "[encoded data removed]",
      "text/plain": [
       "<Figure size 1024x288 with 1 Axes>"
      ]
     },
     "metadata": {},
     "output_type": "display_data"
    },
    {
     "name": "stdout",
     "output_type": "stream",
     "text": [
      "\n",
      "\n",
      "Pausing D\n",
      "Pausing D\n",
      "Pausing D\n",
      "Pausing D\n",
      "Pausing D\n",
      "Pausing D\n",
      "Pausing D\n",
      "Pausing D\n",
      "Pausing D\n",
      "Pausing D\n",
      "Pausing D\n",
      "Pausing D\n",
      "Pausing D\n",
      "Pausing D\n",
      "Pausing D\n",
      "Pausing D\n",
      "Pausing D\n",
      "Pausing D\n",
      "('epoch', 47, 200)\n",
      "('d_loss', 0.3294692859053612, 'a_loss', 0.7390249)\n",
      "('d_accuracy', 0.48046875)\n",
      "(array([[4]]), u'Breakbeat')\n"
     ]
    },
    {
     "data": {
      "image/png": "[encoded data removed]",
      "text/plain": [
       "<Figure size 1024x288 with 1 Axes>"
      ]
     },
     "metadata": {},
     "output_type": "display_data"
    },
    {
     "name": "stdout",
     "output_type": "stream",
     "text": [
      "\n",
      "\n",
      "Pausing D\n",
      "Pausing D\n",
      "Pausing D\n",
      "Pausing D\n",
      "Pausing D\n",
      "Pausing D\n",
      "Pausing D\n",
      "Pausing D\n",
      "Pausing D\n",
      "Pausing D\n",
      "Pausing D\n",
      "Pausing D\n",
      "Pausing D\n",
      "Pausing D\n",
      "Pausing D\n",
      "Pausing D\n",
      "Pausing D\n",
      "Pausing D\n",
      "Pausing D\n",
      "Pausing D\n",
      "('epoch', 47, 300)\n",
      "('d_loss', 0.379651702940464, 'a_loss', 1.0984056)\n",
      "('d_accuracy', 0.46484375)\n",
      "(array([[1]]), u'DnB')\n"
     ]
    },
    {
     "data": {
      "image/png": "[encoded data removed]",
      "text/plain": [
       "<Figure size 1024x288 with 1 Axes>"
      ]
     },
     "metadata": {},
     "output_type": "display_data"
    },
    {
     "name": "stdout",
     "output_type": "stream",
     "text": [
      "\n",
      "\n",
      "Pausing D\n",
      "Pausing D\n",
      "Pausing D\n",
      "Pausing D\n",
      "Pausing D\n",
      "Pausing D\n",
      "Pausing D\n",
      "Pausing D\n",
      "Pausing D\n",
      "Pausing D\n",
      "Pausing D\n",
      "Pausing D\n",
      "Pausing D\n",
      "Pausing D\n",
      "Pausing D\n",
      "Pausing D\n",
      "('epoch', 47, 400)\n",
      "('d_loss', 0.3335683271288872, 'a_loss', 0.75210166)\n",
      "('d_accuracy', 0.45703125)\n",
      "(array([[0]]), u'Old Skool')\n"
     ]
    },
    {
     "data": {
      "image/png": "[encoded data removed]",
      "text/plain": [
       "<Figure size 1024x288 with 1 Axes>"
      ]
     },
     "metadata": {},
     "output_type": "display_data"
    },
    {
     "name": "stdout",
     "output_type": "stream",
     "text": [
      "\n",
      "\n",
      "Pausing D\n",
      "Pausing D\n",
      "Pausing D\n",
      "Pausing D\n",
      "Pausing D\n",
      "Pausing D\n",
      "Pausing D\n",
      "Pausing D\n",
      "Pausing D\n",
      "Pausing D\n",
      "Pausing D\n",
      "Pausing D\n",
      "('epoch', 47, 500)\n",
      "('d_loss', 0.3346782401204109, 'a_loss', 0.656767)\n",
      "('d_accuracy', 0.48828125)\n",
      "(array([[1]]), u'DnB')\n"
     ]
    },
    {
     "data": {
      "image/png": "[encoded data removed]",
      "text/plain": [
       "<Figure size 1024x288 with 1 Axes>"
      ]
     },
     "metadata": {},
     "output_type": "display_data"
    },
    {
     "name": "stdout",
     "output_type": "stream",
     "text": [
      "\n",
      "\n",
      "Pausing D\n",
      "Pausing D\n",
      "Pausing D\n",
      "Pausing D\n",
      "Pausing D\n",
      "Pausing D\n",
      "Pausing D\n",
      "Pausing D\n",
      "Pausing D\n",
      "('epoch', 47, 600)\n",
      "('d_loss', 0.40459495782852173, 'a_loss', 0.7837654)\n",
      "('d_accuracy', 0.453125)\n",
      "(array([[3]]), u'House')\n"
     ]
    },
    {
     "data": {
      "image/png": "[encoded data removed]",
      "text/plain": [
       "<Figure size 1024x288 with 1 Axes>"
      ]
     },
     "metadata": {},
     "output_type": "display_data"
    },
    {
     "name": "stdout",
     "output_type": "stream",
     "text": [
      "\n",
      "\n",
      "Pausing D\n",
      "Pausing D\n",
      "Pausing D\n",
      "Pausing D\n",
      "Pausing D\n",
      "Pausing D\n",
      "Pausing D\n",
      "Pausing D\n",
      "Pausing D\n",
      "Pausing D\n",
      "Pausing D\n",
      "Pausing D\n",
      "('epoch', 47, 700)\n",
      "('d_loss', 0.3811049088835716, 'a_loss', 0.8926027)\n",
      "('d_accuracy', 0.47265625)\n",
      "(array([[3]]), u'House')\n"
     ]
    },
    {
     "data": {
      "image/png": "[encoded data removed]",
      "text/plain": [
       "<Figure size 1024x288 with 1 Axes>"
      ]
     },
     "metadata": {},
     "output_type": "display_data"
    },
    {
     "name": "stdout",
     "output_type": "stream",
     "text": [
      "\n",
      "\n",
      "Pausing D\n",
      "Pausing D\n",
      "Pausing D\n",
      "Pausing D\n",
      "Pausing D\n",
      "Pausing D\n",
      "Pausing D\n",
      "Pausing D\n",
      "Pausing D\n",
      "Pausing D\n",
      "Pausing D\n",
      "Pausing D\n",
      "Pausing D\n",
      "Pausing D\n",
      "Pausing D\n",
      "Pausing D\n",
      "Pausing D\n",
      "Pausing D\n",
      "('epoch', 47, 800)\n",
      "('d_loss', 0.37692616879940033, 'a_loss', 1.2530227)\n",
      "('d_accuracy', 0.453125)\n",
      "(array([[2]]), u'Jungle')\n"
     ]
    },
    {
     "data": {
      "image/png": "[encoded data removed]",
      "text/plain": [
       "<Figure size 1024x288 with 1 Axes>"
      ]
     },
     "metadata": {},
     "output_type": "display_data"
    },
    {
     "name": "stdout",
     "output_type": "stream",
     "text": [
      "\n",
      "\n",
      "Pausing D\n",
      "Pausing D\n",
      "Pausing D\n",
      "Pausing D\n",
      "Pausing D\n",
      "Pausing D\n",
      "Pausing D\n",
      "Pausing D\n",
      "Pausing D\n",
      "Pausing D\n",
      "Pausing D\n",
      "('epoch', 47, 900)\n",
      "('d_loss', 0.3876657336950302, 'a_loss', 0.9879885)\n",
      "('d_accuracy', 0.4453125)\n",
      "(array([[4]]), u'Breakbeat')\n"
     ]
    },
    {
     "data": {
      "image/png": "[encoded data removed]",
      "text/plain": [
       "<Figure size 1024x288 with 1 Axes>"
      ]
     },
     "metadata": {},
     "output_type": "display_data"
    },
    {
     "name": "stdout",
     "output_type": "stream",
     "text": [
      "\n",
      "\n",
      "Pausing D\n",
      "Pausing D\n",
      "Pausing D\n",
      "Pausing D\n",
      "Pausing D\n",
      "Pausing D\n",
      "Pausing D\n",
      "Pausing D\n",
      "Pausing D\n",
      "Pausing D\n",
      "Pausing D\n",
      "Pausing D\n",
      "Pausing D\n",
      "Pausing D\n",
      "Pausing D\n",
      "('epoch', 47, 1000)\n",
      "('d_loss', 0.3723274916410446, 'a_loss', 1.0454184)\n",
      "('d_accuracy', 0.46484375)\n",
      "(array([[3]]), u'House')\n"
     ]
    },
    {
     "data": {
      "image/png": "[encoded data removed]",
      "text/plain": [
       "<Figure size 1024x288 with 1 Axes>"
      ]
     },
     "metadata": {},
     "output_type": "display_data"
    },
    {
     "name": "stdout",
     "output_type": "stream",
     "text": [
      "\n",
      "\n",
      "Pausing D\n",
      "Pausing D\n",
      "Pausing D\n",
      "Pausing D\n",
      "Pausing D\n",
      "Pausing D\n",
      "Pausing D\n",
      "Pausing D\n",
      "Pausing D\n",
      "Pausing D\n",
      "Pausing D\n",
      "Pausing D\n",
      "Pausing D\n",
      "Pausing D\n",
      "Pausing D\n",
      "Pausing D\n",
      "('epoch', 47, 1100)\n",
      "('d_loss', 0.39246104657649994, 'a_loss', 0.72027224)\n",
      "('d_accuracy', 0.45703125)\n",
      "(array([[5]]), u'Garage')\n"
     ]
    },
    {
     "data": {
      "image/png": "[encoded data removed]",
      "text/plain": [
       "<Figure size 1024x288 with 1 Axes>"
      ]
     },
     "metadata": {},
     "output_type": "display_data"
    },
    {
     "name": "stdout",
     "output_type": "stream",
     "text": [
      "\n",
      "\n",
      "Pausing D\n",
      "Pausing D\n",
      "Pausing D\n",
      "Pausing D\n",
      "Pausing D\n",
      "Pausing D\n",
      "Pausing D\n",
      "Pausing D\n",
      "('epoch', 48, 0)\n",
      "('d_loss', 0.30114660412073135, 'a_loss', 1.0821551)\n",
      "('d_accuracy', 0.5)\n",
      "(array([[0]]), u'Old Skool')\n"
     ]
    },
    {
     "data": {
      "image/png": "[encoded data removed]",
      "text/plain": [
       "<Figure size 1024x288 with 1 Axes>"
      ]
     },
     "metadata": {},
     "output_type": "display_data"
    },
    {
     "name": "stdout",
     "output_type": "stream",
     "text": [
      "\n",
      "\n",
      "Pausing D\n",
      "Pausing D\n",
      "Pausing D\n",
      "Pausing D\n",
      "Pausing D\n",
      "Pausing D\n",
      "Pausing D\n",
      "Pausing D\n",
      "Pausing D\n",
      "Pausing D\n",
      "Pausing D\n",
      "Pausing D\n",
      "Pausing D\n",
      "Pausing D\n",
      "Pausing D\n",
      "Pausing D\n",
      "Pausing D\n",
      "Pausing D\n",
      "Pausing D\n",
      "Pausing D\n",
      "('epoch', 48, 100)\n",
      "('d_loss', 0.3311842158436775, 'a_loss', 0.9624505)\n",
      "('d_accuracy', 0.4765625)\n",
      "(array([[0]]), u'Old Skool')\n"
     ]
    },
    {
     "data": {
      "image/png": "[encoded data removed]",
      "text/plain": [
       "<Figure size 1024x288 with 1 Axes>"
      ]
     },
     "metadata": {},
     "output_type": "display_data"
    },
    {
     "name": "stdout",
     "output_type": "stream",
     "text": [
      "\n",
      "\n",
      "Pausing D\n",
      "Pausing D\n",
      "Pausing D\n",
      "Pausing D\n",
      "Pausing D\n",
      "Pausing D\n",
      "Pausing D\n",
      "Pausing D\n",
      "Pausing D\n",
      "Pausing D\n",
      "Pausing D\n",
      "Pausing D\n",
      "Pausing D\n",
      "Pausing D\n",
      "Pausing D\n",
      "Pausing D\n",
      "Pausing D\n",
      "Pausing D\n",
      "Pausing D\n",
      "Pausing D\n",
      "Pausing D\n",
      "Pausing D\n",
      "Pausing D\n",
      "Pausing D\n",
      "('epoch', 48, 200)\n",
      "('d_loss', 0.3641454428434372, 'a_loss', 0.7284959)\n",
      "('d_accuracy', 0.46875)\n",
      "(array([[5]]), u'Garage')\n"
     ]
    },
    {
     "data": {
      "image/png": "[encoded data removed]",
      "text/plain": [
       "<Figure size 1024x288 with 1 Axes>"
      ]
     },
     "metadata": {},
     "output_type": "display_data"
    },
    {
     "name": "stdout",
     "output_type": "stream",
     "text": [
      "\n",
      "\n",
      "Pausing D\n",
      "Pausing D\n",
      "Pausing D\n",
      "Pausing D\n",
      "Pausing D\n",
      "Pausing D\n",
      "Pausing D\n",
      "Pausing D\n",
      "Pausing D\n",
      "Pausing D\n",
      "Pausing D\n",
      "Pausing D\n",
      "Pausing D\n",
      "Pausing D\n",
      "Pausing D\n",
      "Pausing D\n",
      "Pausing D\n",
      "Pausing D\n",
      "Pausing D\n",
      "Pausing D\n",
      "Pausing D\n",
      "Pausing D\n",
      "('epoch', 48, 300)\n",
      "('d_loss', 0.37613917142152786, 'a_loss', 0.9381032)\n",
      "('d_accuracy', 0.45703125)\n",
      "(array([[5]]), u'Garage')\n"
     ]
    },
    {
     "data": {
      "image/png": "[encoded data removed]",
      "text/plain": [
       "<Figure size 1024x288 with 1 Axes>"
      ]
     },
     "metadata": {},
     "output_type": "display_data"
    },
    {
     "name": "stdout",
     "output_type": "stream",
     "text": [
      "\n",
      "\n",
      "Pausing D\n",
      "Pausing D\n",
      "Pausing D\n",
      "Pausing D\n",
      "Pausing D\n",
      "Pausing D\n",
      "Pausing D\n",
      "Pausing D\n",
      "Pausing D\n",
      "Pausing D\n",
      "Pausing D\n",
      "Pausing D\n",
      "Pausing D\n",
      "Pausing D\n",
      "Pausing D\n",
      "Pausing D\n",
      "Pausing D\n",
      "Pausing D\n",
      "Pausing D\n",
      "Pausing D\n",
      "Pausing D\n",
      "('epoch', 48, 400)\n",
      "('d_loss', 0.3577665090560913, 'a_loss', 0.83091587)\n",
      "('d_accuracy', 0.44921875)\n",
      "(array([[2]]), u'Jungle')\n"
     ]
    },
    {
     "data": {
      "image/png": "[encoded data removed]",
      "text/plain": [
       "<Figure size 1024x288 with 1 Axes>"
      ]
     },
     "metadata": {},
     "output_type": "display_data"
    },
    {
     "name": "stdout",
     "output_type": "stream",
     "text": [
      "\n",
      "\n",
      "Pausing D\n",
      "Pausing D\n",
      "Pausing D\n",
      "Pausing D\n",
      "Pausing D\n",
      "Pausing D\n",
      "Pausing D\n",
      "Pausing D\n",
      "Pausing D\n",
      "Pausing D\n",
      "Pausing D\n",
      "Pausing D\n",
      "Pausing D\n",
      "Pausing D\n",
      "Pausing D\n",
      "Pausing D\n",
      "Pausing D\n",
      "Pausing D\n",
      "Pausing D\n",
      "Pausing D\n",
      "Pausing D\n",
      "Pausing D\n",
      "Pausing D\n",
      "Pausing D\n",
      "Pausing D\n",
      "Pausing D\n",
      "Pausing D\n",
      "Pausing D\n",
      "Pausing D\n",
      "('epoch', 48, 500)\n",
      "('d_loss', 0.3124191164970398, 'a_loss', 0.9054304)\n",
      "('d_accuracy', 0.4765625)\n",
      "(array([[3]]), u'House')\n"
     ]
    },
    {
     "data": {
      "image/png": "[encoded data removed]",
      "text/plain": [
       "<Figure size 1024x288 with 1 Axes>"
      ]
     },
     "metadata": {},
     "output_type": "display_data"
    },
    {
     "name": "stdout",
     "output_type": "stream",
     "text": [
      "\n",
      "\n",
      "Pausing D\n",
      "Pausing D\n",
      "Pausing D\n",
      "Pausing D\n",
      "Pausing D\n",
      "Pausing D\n",
      "Pausing D\n",
      "Pausing D\n",
      "Pausing D\n",
      "Pausing D\n",
      "Pausing D\n",
      "Pausing D\n",
      "Pausing D\n",
      "Pausing D\n",
      "Pausing D\n",
      "Pausing D\n",
      "Pausing D\n",
      "Pausing D\n",
      "Pausing D\n",
      "('epoch', 48, 600)\n",
      "('d_loss', 0.378409206867218, 'a_loss', 0.65502083)\n",
      "('d_accuracy', 0.45703125)\n",
      "(array([[4]]), u'Breakbeat')\n"
     ]
    },
    {
     "data": {
      "image/png": "[encoded data removed]",
      "text/plain": [
       "<Figure size 1024x288 with 1 Axes>"
      ]
     },
     "metadata": {},
     "output_type": "display_data"
    },
    {
     "name": "stdout",
     "output_type": "stream",
     "text": [
      "\n",
      "\n",
      "Pausing D\n",
      "Pausing D\n",
      "Pausing D\n",
      "Pausing D\n",
      "Pausing D\n",
      "Pausing D\n",
      "Pausing D\n",
      "Pausing D\n",
      "Pausing D\n",
      "Pausing D\n",
      "Pausing D\n",
      "Pausing D\n",
      "Pausing D\n",
      "Pausing D\n",
      "Pausing D\n",
      "Pausing D\n",
      "Pausing D\n",
      "('epoch', 48, 700)\n",
      "('d_loss', 0.3385953977704048, 'a_loss', 0.9934313)\n",
      "('d_accuracy', 0.484375)\n",
      "(array([[3]]), u'House')\n"
     ]
    },
    {
     "data": {
      "image/png": "[encoded data removed]",
      "text/plain": [
       "<Figure size 1024x288 with 1 Axes>"
      ]
     },
     "metadata": {},
     "output_type": "display_data"
    },
    {
     "name": "stdout",
     "output_type": "stream",
     "text": [
      "\n",
      "\n",
      "Pausing D\n",
      "Pausing D\n",
      "Pausing D\n",
      "Pausing D\n",
      "Pausing D\n",
      "Pausing D\n",
      "Pausing D\n",
      "Pausing D\n",
      "Pausing D\n",
      "Pausing D\n",
      "Pausing D\n",
      "Pausing D\n",
      "Pausing D\n",
      "Pausing D\n",
      "Pausing D\n",
      "Pausing D\n",
      "Pausing D\n",
      "Pausing D\n",
      "('epoch', 48, 800)\n",
      "('d_loss', 0.3805815503001213, 'a_loss', 0.98638296)\n",
      "('d_accuracy', 0.45703125)\n",
      "(array([[6]]), u'Techno')\n"
     ]
    },
    {
     "data": {
      "image/png": "[encoded data removed]",
      "text/plain": [
       "<Figure size 1024x288 with 1 Axes>"
      ]
     },
     "metadata": {},
     "output_type": "display_data"
    },
    {
     "name": "stdout",
     "output_type": "stream",
     "text": [
      "\n",
      "\n",
      "Pausing D\n",
      "Pausing D\n",
      "Pausing D\n",
      "Pausing D\n",
      "Pausing D\n",
      "Pausing D\n",
      "Pausing D\n",
      "Pausing D\n",
      "Pausing D\n",
      "Pausing D\n",
      "Pausing D\n",
      "Pausing D\n",
      "Pausing D\n",
      "Pausing D\n",
      "Pausing D\n",
      "Pausing D\n",
      "('epoch', 48, 900)\n",
      "('d_loss', 0.3390372470021248, 'a_loss', 0.84055424)\n",
      "('d_accuracy', 0.4609375)\n",
      "(array([[3]]), u'House')\n"
     ]
    },
    {
     "data": {
      "image/png": "[encoded data removed]",
      "text/plain": [
       "<Figure size 1024x288 with 1 Axes>"
      ]
     },
     "metadata": {},
     "output_type": "display_data"
    },
    {
     "name": "stdout",
     "output_type": "stream",
     "text": [
      "\n",
      "\n",
      "Pausing D\n",
      "Pausing D\n",
      "Pausing D\n",
      "Pausing D\n",
      "Pausing D\n",
      "Pausing D\n",
      "Pausing D\n",
      "Pausing D\n",
      "Pausing D\n",
      "Pausing D\n",
      "Pausing D\n",
      "Pausing D\n",
      "Pausing D\n",
      "Pausing D\n",
      "Pausing D\n",
      "Pausing D\n",
      "Pausing D\n",
      "Pausing D\n",
      "Pausing D\n",
      "Pausing D\n",
      "Pausing D\n",
      "Pausing D\n",
      "Pausing D\n",
      "Pausing D\n",
      "('epoch', 48, 1000)\n",
      "('d_loss', 0.3495977967977524, 'a_loss', 0.6942507)\n",
      "('d_accuracy', 0.48046875)\n",
      "(array([[2]]), u'Jungle')\n"
     ]
    },
    {
     "data": {
      "image/png": "[encoded data removed]",
      "text/plain": [
       "<Figure size 1024x288 with 1 Axes>"
      ]
     },
     "metadata": {},
     "output_type": "display_data"
    },
    {
     "name": "stdout",
     "output_type": "stream",
     "text": [
      "\n",
      "\n",
      "Pausing D\n",
      "Pausing D\n",
      "Pausing D\n",
      "Pausing D\n",
      "Pausing D\n",
      "Pausing D\n",
      "Pausing D\n",
      "Pausing D\n",
      "Pausing D\n",
      "Pausing D\n",
      "Pausing D\n",
      "Pausing D\n",
      "Pausing D\n",
      "Pausing D\n",
      "Pausing D\n",
      "Pausing D\n",
      "Pausing D\n",
      "Pausing D\n",
      "Pausing D\n",
      "('epoch', 48, 1100)\n",
      "('d_loss', 0.3283783718943596, 'a_loss', 1.0828705)\n",
      "('d_accuracy', 0.484375)\n",
      "(array([[5]]), u'Garage')\n"
     ]
    },
    {
     "data": {
      "image/png": "[encoded data removed]",
      "text/plain": [
       "<Figure size 1024x288 with 1 Axes>"
      ]
     },
     "metadata": {},
     "output_type": "display_data"
    },
    {
     "name": "stdout",
     "output_type": "stream",
     "text": [
      "\n",
      "\n",
      "Pausing D\n",
      "Pausing D\n",
      "Pausing D\n",
      "Pausing D\n",
      "Pausing D\n",
      "Pausing D\n",
      "Pausing D\n",
      "Pausing D\n",
      "Pausing D\n",
      "Pausing D\n",
      "Pausing D\n",
      "Pausing D\n",
      "Pausing D\n",
      "Pausing D\n",
      "Pausing D\n",
      "Pausing D\n",
      "('epoch', 49, 0)\n",
      "('d_loss', 0.30189914256334305, 'a_loss', 1.0283713)\n",
      "('d_accuracy', 0.48046875)\n",
      "(array([[3]]), u'House')\n"
     ]
    },
    {
     "data": {
      "image/png": "[encoded data removed]",
      "text/plain": [
       "<Figure size 1024x288 with 1 Axes>"
      ]
     },
     "metadata": {},
     "output_type": "display_data"
    },
    {
     "name": "stdout",
     "output_type": "stream",
     "text": [
      "\n",
      "\n",
      "Pausing D\n",
      "Pausing D\n",
      "Pausing D\n",
      "Pausing D\n",
      "Pausing D\n",
      "Pausing D\n",
      "Pausing D\n",
      "Pausing D\n",
      "Pausing D\n",
      "Pausing D\n",
      "Pausing D\n",
      "Pausing D\n",
      "Pausing D\n",
      "Pausing D\n",
      "Pausing D\n",
      "Pausing D\n",
      "Pausing D\n",
      "Pausing D\n",
      "Pausing D\n",
      "Pausing D\n",
      "Pausing D\n",
      "Pausing D\n",
      "Pausing D\n",
      "Pausing D\n",
      "('epoch', 49, 100)\n",
      "('d_loss', 0.3263039216399193, 'a_loss', 0.7472224)\n",
      "('d_accuracy', 0.47265625)\n",
      "(array([[6]]), u'Techno')\n"
     ]
    },
    {
     "data": {
      "image/png": "[encoded data removed]",
      "text/plain": [
       "<Figure size 1024x288 with 1 Axes>"
      ]
     },
     "metadata": {},
     "output_type": "display_data"
    },
    {
     "name": "stdout",
     "output_type": "stream",
     "text": [
      "\n",
      "\n",
      "Pausing D\n",
      "Pausing D\n",
      "Pausing D\n",
      "Pausing D\n",
      "Pausing D\n",
      "Pausing D\n",
      "Pausing D\n",
      "Pausing D\n",
      "Pausing D\n",
      "Pausing D\n",
      "Pausing D\n",
      "Pausing D\n",
      "Pausing D\n",
      "Pausing D\n",
      "Pausing D\n",
      "Pausing D\n",
      "Pausing D\n",
      "Pausing D\n",
      "Pausing D\n",
      "Pausing D\n",
      "Pausing D\n",
      "Pausing D\n",
      "Pausing D\n",
      "Pausing D\n",
      "Pausing D\n",
      "('epoch', 49, 200)\n",
      "('d_loss', 0.36365990340709686, 'a_loss', 1.0646685)\n",
      "('d_accuracy', 0.45703125)\n",
      "(array([[3]]), u'House')\n"
     ]
    },
    {
     "data": {
      "image/png": "[encoded data removed]",
      "text/plain": [
       "<Figure size 1024x288 with 1 Axes>"
      ]
     },
     "metadata": {},
     "output_type": "display_data"
    },
    {
     "name": "stdout",
     "output_type": "stream",
     "text": [
      "\n",
      "\n",
      "Pausing D\n",
      "Pausing D\n",
      "Pausing D\n",
      "Pausing D\n",
      "Pausing D\n",
      "Pausing D\n",
      "Pausing D\n",
      "Pausing D\n",
      "Pausing D\n",
      "Pausing D\n",
      "Pausing D\n",
      "Pausing D\n",
      "Pausing D\n",
      "('epoch', 49, 300)\n",
      "('d_loss', 0.3099832832813263, 'a_loss', 0.9251549)\n",
      "('d_accuracy', 0.46484375)\n",
      "(array([[1]]), u'DnB')\n"
     ]
    },
    {
     "data": {
      "image/png": "[encoded data removed]",
      "text/plain": [
       "<Figure size 1024x288 with 1 Axes>"
      ]
     },
     "metadata": {},
     "output_type": "display_data"
    },
    {
     "name": "stdout",
     "output_type": "stream",
     "text": [
      "\n",
      "\n",
      "Pausing D\n",
      "Pausing D\n",
      "Pausing D\n",
      "Pausing D\n",
      "Pausing D\n",
      "Pausing D\n",
      "Pausing D\n",
      "Pausing D\n",
      "Pausing D\n",
      "Pausing D\n",
      "Pausing D\n",
      "Pausing D\n",
      "Pausing D\n",
      "Pausing D\n",
      "Pausing D\n",
      "Pausing D\n",
      "Pausing D\n",
      "('epoch', 49, 400)\n",
      "('d_loss', 0.34808696061372757, 'a_loss', 0.90247285)\n",
      "('d_accuracy', 0.47265625)\n",
      "(array([[0]]), u'Old Skool')\n"
     ]
    },
    {
     "data": {
      "image/png": "[encoded data removed]",
      "text/plain": [
       "<Figure size 1024x288 with 1 Axes>"
      ]
     },
     "metadata": {},
     "output_type": "display_data"
    },
    {
     "name": "stdout",
     "output_type": "stream",
     "text": [
      "\n",
      "\n",
      "Pausing D\n",
      "Pausing D\n",
      "Pausing D\n",
      "Pausing D\n",
      "Pausing D\n",
      "Pausing D\n",
      "Pausing D\n",
      "Pausing D\n",
      "Pausing D\n",
      "Pausing D\n",
      "Pausing D\n",
      "Pausing D\n",
      "Pausing D\n",
      "Pausing D\n",
      "Pausing D\n",
      "Pausing D\n",
      "Pausing D\n",
      "Pausing D\n",
      "Pausing D\n",
      "Pausing D\n",
      "Pausing D\n",
      "Pausing D\n",
      "Pausing D\n",
      "('epoch', 49, 500)\n",
      "('d_loss', 0.3280644416809082, 'a_loss', 0.79073906)\n",
      "('d_accuracy', 0.46484375)\n",
      "(array([[4]]), u'Breakbeat')\n"
     ]
    },
    {
     "data": {
      "image/png": "[encoded data removed]",
      "text/plain": [
       "<Figure size 1024x288 with 1 Axes>"
      ]
     },
     "metadata": {},
     "output_type": "display_data"
    },
    {
     "name": "stdout",
     "output_type": "stream",
     "text": [
      "\n",
      "\n",
      "Pausing D\n",
      "Pausing D\n",
      "Pausing D\n",
      "Pausing D\n",
      "Pausing D\n",
      "Pausing D\n",
      "Pausing D\n",
      "Pausing D\n",
      "Pausing D\n",
      "Pausing D\n",
      "Pausing D\n",
      "Pausing D\n",
      "Pausing D\n",
      "Pausing D\n",
      "Pausing D\n",
      "Pausing D\n",
      "Pausing D\n",
      "Pausing D\n",
      "Pausing D\n",
      "Pausing D\n",
      "Pausing D\n",
      "Pausing D\n",
      "Pausing D\n",
      "Pausing D\n",
      "Pausing D\n",
      "Pausing D\n",
      "('epoch', 49, 600)\n",
      "('d_loss', 0.36945750564336777, 'a_loss', 0.8378632)\n",
      "('d_accuracy', 0.45703125)\n",
      "(array([[0]]), u'Old Skool')\n"
     ]
    },
    {
     "data": {
      "image/png": "[encoded data removed]",
      "text/plain": [
       "<Figure size 1024x288 with 1 Axes>"
      ]
     },
     "metadata": {},
     "output_type": "display_data"
    },
    {
     "name": "stdout",
     "output_type": "stream",
     "text": [
      "\n",
      "\n",
      "Pausing D\n",
      "Pausing D\n",
      "Pausing D\n",
      "Pausing D\n",
      "Pausing D\n",
      "Pausing D\n",
      "Pausing D\n",
      "Pausing D\n",
      "Pausing D\n",
      "Pausing D\n",
      "Pausing D\n",
      "Pausing D\n",
      "Pausing D\n",
      "Pausing D\n",
      "Pausing D\n",
      "Pausing D\n",
      "Pausing D\n",
      "Pausing D\n",
      "Pausing D\n",
      "Pausing D\n",
      "Pausing D\n",
      "Pausing D\n",
      "Pausing D\n",
      "Pausing D\n",
      "Pausing D\n",
      "Pausing D\n",
      "Pausing D\n",
      "Pausing D\n",
      "Pausing D\n",
      "Pausing D\n",
      "Pausing D\n",
      "Pausing D\n",
      "Pausing D\n",
      "Pausing D\n",
      "Pausing D\n",
      "Pausing D\n",
      "Pausing D\n",
      "Pausing D\n",
      "('epoch', 49, 700)\n",
      "('d_loss', 0.3304729536175728, 'a_loss', 1.1618881)\n",
      "('d_accuracy', 0.453125)\n",
      "(array([[4]]), u'Breakbeat')\n"
     ]
    },
    {
     "data": {
      "image/png": "[encoded data removed]",
      "text/plain": [
       "<Figure size 1024x288 with 1 Axes>"
      ]
     },
     "metadata": {},
     "output_type": "display_data"
    },
    {
     "name": "stdout",
     "output_type": "stream",
     "text": [
      "\n",
      "\n",
      "Pausing D\n",
      "Pausing D\n",
      "Pausing D\n",
      "Pausing D\n",
      "Pausing D\n",
      "Pausing D\n",
      "Pausing D\n",
      "Pausing D\n",
      "Pausing D\n",
      "Pausing D\n",
      "Pausing D\n",
      "Pausing D\n",
      "Pausing D\n",
      "Pausing D\n",
      "Pausing D\n",
      "Pausing D\n",
      "Pausing D\n",
      "Pausing D\n",
      "Pausing D\n",
      "Pausing D\n",
      "Pausing D\n",
      "Pausing D\n",
      "Pausing D\n",
      "Pausing D\n",
      "Pausing D\n",
      "Pausing D\n",
      "Pausing D\n",
      "('epoch', 49, 800)\n",
      "('d_loss', 0.328741617500782, 'a_loss', 1.0558336)\n",
      "('d_accuracy', 0.46484375)\n",
      "(array([[5]]), u'Garage')\n"
     ]
    },
    {
     "data": {
      "image/png": "[encoded data removed]",
      "text/plain": [
       "<Figure size 1024x288 with 1 Axes>"
      ]
     },
     "metadata": {},
     "output_type": "display_data"
    },
    {
     "name": "stdout",
     "output_type": "stream",
     "text": [
      "\n",
      "\n",
      "Pausing D\n",
      "Pausing D\n",
      "Pausing D\n",
      "Pausing D\n",
      "Pausing D\n",
      "Pausing D\n",
      "Pausing D\n",
      "Pausing D\n",
      "Pausing D\n",
      "Pausing D\n",
      "Pausing D\n",
      "Pausing D\n",
      "Pausing D\n",
      "Pausing D\n",
      "Pausing D\n",
      "Pausing D\n",
      "Pausing D\n",
      "Pausing D\n",
      "Pausing D\n",
      "Pausing D\n",
      "Pausing D\n",
      "Pausing D\n",
      "Pausing D\n",
      "Pausing D\n",
      "Pausing D\n",
      "Pausing D\n",
      "('epoch', 49, 900)\n",
      "('d_loss', 0.35423846542835236, 'a_loss', 0.5844333)\n",
      "('d_accuracy', 0.4609375)\n",
      "(array([[3]]), u'House')\n"
     ]
    },
    {
     "data": {
      "image/png": "[encoded data removed]",
      "text/plain": [
       "<Figure size 1024x288 with 1 Axes>"
      ]
     },
     "metadata": {},
     "output_type": "display_data"
    },
    {
     "name": "stdout",
     "output_type": "stream",
     "text": [
      "\n",
      "\n",
      "Pausing D\n",
      "Pausing D\n",
      "Pausing D\n",
      "Pausing D\n",
      "Pausing D\n",
      "Pausing D\n",
      "Pausing D\n",
      "Pausing D\n",
      "Pausing D\n",
      "Pausing D\n",
      "Pausing D\n",
      "Pausing D\n",
      "Pausing D\n",
      "Pausing D\n",
      "Pausing D\n",
      "Pausing D\n",
      "Pausing D\n",
      "Pausing D\n",
      "Pausing D\n",
      "Pausing D\n",
      "Pausing D\n",
      "Pausing D\n",
      "Pausing D\n",
      "('epoch', 49, 1000)\n",
      "('d_loss', 0.3801788091659546, 'a_loss', 0.5359809)\n",
      "('d_accuracy', 0.46875)\n",
      "(array([[6]]), u'Techno')\n"
     ]
    },
    {
     "data": {
      "image/png": "[encoded data removed]",
      "text/plain": [
       "<Figure size 1024x288 with 1 Axes>"
      ]
     },
     "metadata": {},
     "output_type": "display_data"
    },
    {
     "name": "stdout",
     "output_type": "stream",
     "text": [
      "\n",
      "\n",
      "Pausing D\n",
      "Pausing D\n",
      "Pausing D\n",
      "Pausing D\n",
      "Pausing D\n",
      "Pausing D\n",
      "Pausing D\n",
      "Pausing D\n",
      "Pausing D\n",
      "Pausing D\n",
      "Pausing D\n",
      "Pausing D\n",
      "Pausing D\n",
      "Pausing D\n",
      "Pausing D\n",
      "Pausing D\n",
      "Pausing D\n",
      "Pausing D\n",
      "Pausing D\n",
      "Pausing D\n",
      "Pausing D\n",
      "Pausing D\n",
      "Pausing D\n",
      "Pausing D\n",
      "Pausing D\n",
      "Pausing D\n",
      "Pausing D\n",
      "Pausing D\n",
      "Pausing D\n",
      "Pausing D\n",
      "Pausing D\n",
      "('epoch', 49, 1100)\n",
      "('d_loss', 0.31732359528541565, 'a_loss', 1.329588)\n",
      "('d_accuracy', 0.46875)\n",
      "(array([[6]]), u'Techno')\n"
     ]
    },
    {
     "data": {
      "image/png": "[encoded data removed]",
      "text/plain": [
       "<Figure size 1024x288 with 1 Axes>"
      ]
     },
     "metadata": {},
     "output_type": "display_data"
    },
    {
     "name": "stdout",
     "output_type": "stream",
     "text": [
      "\n",
      "\n",
      "Pausing D\n",
      "Pausing D\n",
      "Pausing D\n",
      "Pausing D\n",
      "Pausing D\n",
      "Pausing D\n",
      "Pausing D\n",
      "Pausing D\n",
      "Pausing D\n",
      "Pausing D\n",
      "Pausing D\n",
      "Pausing D\n",
      "Pausing D\n",
      "Pausing D\n",
      "Pausing D\n",
      "Pausing D\n",
      "Pausing D\n",
      "Pausing D\n",
      "Pausing D\n",
      "Pausing D\n",
      "Pausing D\n",
      "Pausing D\n",
      "Pausing D\n",
      "Pausing D\n",
      "Pausing D\n",
      "Pausing D\n",
      "Pausing D\n",
      "Pausing D\n",
      "Pausing D\n",
      "Pausing D\n",
      "Pausing D\n",
      "Pausing D\n",
      "Pausing D\n",
      "('epoch', 50, 0)\n",
      "('d_loss', 0.2884114533662796, 'a_loss', 0.6918005)\n",
      "('d_accuracy', 0.4765625)\n",
      "(array([[6]]), u'Techno')\n"
     ]
    },
    {
     "data": {
      "image/png": "[encoded data removed]",
      "text/plain": [
       "<Figure size 1024x288 with 1 Axes>"
      ]
     },
     "metadata": {},
     "output_type": "display_data"
    },
    {
     "name": "stdout",
     "output_type": "stream",
     "text": [
      "\n",
      "\n",
      "Pausing D\n",
      "Pausing D\n",
      "Pausing D\n",
      "Pausing D\n",
      "Pausing D\n",
      "Pausing D\n",
      "Pausing D\n",
      "Pausing D\n",
      "Pausing D\n",
      "Pausing D\n",
      "Pausing D\n",
      "Pausing D\n",
      "Pausing D\n",
      "Pausing D\n",
      "Pausing D\n",
      "Pausing D\n",
      "Pausing D\n",
      "Pausing D\n",
      "Pausing D\n",
      "Pausing D\n",
      "Pausing D\n",
      "Pausing D\n",
      "Pausing D\n",
      "Pausing D\n",
      "Pausing D\n",
      "Pausing D\n",
      "Pausing D\n",
      "Pausing D\n",
      "Pausing D\n",
      "Pausing D\n",
      "Pausing D\n",
      "Pausing D\n",
      "Pausing D\n",
      "Pausing D\n",
      "Pausing D\n",
      "Pausing D\n",
      "Pausing D\n",
      "('epoch', 50, 100)\n",
      "('d_loss', 0.2908966839313507, 'a_loss', 1.0544928)\n",
      "('d_accuracy', 0.48828125)\n",
      "(array([[5]]), u'Garage')\n"
     ]
    },
    {
     "data": {
      "image/png": "[encoded data removed]",
      "text/plain": [
       "<Figure size 1024x288 with 1 Axes>"
      ]
     },
     "metadata": {},
     "output_type": "display_data"
    },
    {
     "name": "stdout",
     "output_type": "stream",
     "text": [
      "\n",
      "\n",
      "Pausing D\n",
      "Pausing D\n",
      "Pausing D\n",
      "Pausing D\n",
      "Pausing D\n",
      "Pausing D\n",
      "Pausing D\n",
      "Pausing D\n",
      "Pausing D\n",
      "Pausing D\n",
      "Pausing D\n",
      "Pausing D\n",
      "Pausing D\n",
      "Pausing D\n",
      "Pausing D\n",
      "Pausing D\n",
      "Pausing D\n",
      "Pausing D\n",
      "Pausing D\n",
      "Pausing D\n",
      "Pausing D\n",
      "Pausing D\n",
      "Pausing D\n",
      "Pausing D\n",
      "Pausing D\n",
      "Pausing D\n",
      "Pausing D\n",
      "Pausing D\n",
      "Pausing D\n",
      "Pausing D\n",
      "Pausing D\n",
      "Pausing D\n",
      "Pausing D\n",
      "Pausing D\n",
      "('epoch', 50, 200)\n",
      "('d_loss', 0.39324355125427246, 'a_loss', 0.77489835)\n",
      "('d_accuracy', 0.453125)\n",
      "(array([[5]]), u'Garage')\n"
     ]
    },
    {
     "data": {
      "image/png": "[encoded data removed]",
      "text/plain": [
       "<Figure size 1024x288 with 1 Axes>"
      ]
     },
     "metadata": {},
     "output_type": "display_data"
    },
    {
     "name": "stdout",
     "output_type": "stream",
     "text": [
      "\n",
      "\n",
      "Pausing D\n",
      "Pausing D\n",
      "Pausing D\n",
      "Pausing D\n",
      "Pausing D\n",
      "Pausing D\n",
      "Pausing D\n",
      "Pausing D\n",
      "Pausing D\n",
      "Pausing D\n",
      "Pausing D\n",
      "Pausing D\n",
      "Pausing D\n",
      "Pausing D\n",
      "Pausing D\n",
      "Pausing D\n",
      "Pausing D\n",
      "Pausing D\n",
      "Pausing D\n",
      "Pausing D\n",
      "Pausing D\n",
      "Pausing D\n",
      "Pausing D\n",
      "Pausing D\n",
      "Pausing D\n",
      "Pausing D\n",
      "Pausing D\n",
      "Pausing D\n",
      "('epoch', 50, 300)\n",
      "('d_loss', 0.3604121059179306, 'a_loss', 0.62167907)\n",
      "('d_accuracy', 0.47265625)\n",
      "(array([[0]]), u'Old Skool')\n"
     ]
    },
    {
     "data": {
      "image/png": "[encoded data removed]",
      "text/plain": [
       "<Figure size 1024x288 with 1 Axes>"
      ]
     },
     "metadata": {},
     "output_type": "display_data"
    },
    {
     "name": "stdout",
     "output_type": "stream",
     "text": [
      "\n",
      "\n",
      "Pausing D\n",
      "Pausing D\n",
      "Pausing D\n",
      "Pausing D\n",
      "Pausing D\n",
      "Pausing D\n",
      "Pausing D\n",
      "Pausing D\n",
      "Pausing D\n",
      "Pausing D\n",
      "Pausing D\n",
      "Pausing D\n",
      "Pausing D\n",
      "Pausing D\n",
      "Pausing D\n",
      "Pausing D\n",
      "Pausing D\n",
      "Pausing D\n",
      "Pausing D\n",
      "Pausing D\n",
      "Pausing D\n",
      "Pausing D\n",
      "('epoch', 50, 400)\n",
      "('d_loss', 0.3452165946364403, 'a_loss', 1.2264363)\n",
      "('d_accuracy', 0.46484375)\n",
      "(array([[6]]), u'Techno')\n"
     ]
    },
    {
     "data": {
      "image/png": "[encoded data removed]",
      "text/plain": [
       "<Figure size 1024x288 with 1 Axes>"
      ]
     },
     "metadata": {},
     "output_type": "display_data"
    },
    {
     "name": "stdout",
     "output_type": "stream",
     "text": [
      "\n",
      "\n",
      "Pausing D\n",
      "Pausing D\n",
      "Pausing D\n",
      "Pausing D\n",
      "Pausing D\n",
      "Pausing D\n",
      "Pausing D\n",
      "Pausing D\n",
      "Pausing D\n",
      "Pausing D\n",
      "Pausing D\n",
      "Pausing D\n",
      "Pausing D\n",
      "Pausing D\n",
      "Pausing D\n",
      "Pausing D\n",
      "Pausing D\n",
      "Pausing D\n",
      "Pausing D\n",
      "Pausing D\n",
      "Pausing D\n",
      "Pausing D\n",
      "Pausing D\n",
      "Pausing D\n",
      "Pausing D\n",
      "Pausing D\n",
      "Pausing D\n",
      "Pausing D\n",
      "Pausing D\n",
      "Pausing D\n",
      "('epoch', 50, 500)\n",
      "('d_loss', 0.3260019049048424, 'a_loss', 0.9216028)\n",
      "('d_accuracy', 0.453125)\n",
      "(array([[6]]), u'Techno')\n"
     ]
    },
    {
     "data": {
      "image/png": "[encoded data removed]",
      "text/plain": [
       "<Figure size 1024x288 with 1 Axes>"
      ]
     },
     "metadata": {},
     "output_type": "display_data"
    },
    {
     "name": "stdout",
     "output_type": "stream",
     "text": [
      "\n",
      "\n",
      "Pausing D\n",
      "Pausing D\n",
      "Pausing D\n",
      "Pausing D\n",
      "Pausing D\n",
      "Pausing D\n",
      "Pausing D\n",
      "Pausing D\n",
      "Pausing D\n",
      "Pausing D\n",
      "Pausing D\n",
      "Pausing D\n",
      "Pausing D\n",
      "Pausing D\n",
      "Pausing D\n",
      "Pausing D\n",
      "Pausing D\n",
      "Pausing D\n",
      "Pausing D\n",
      "Pausing D\n",
      "Pausing D\n",
      "Pausing D\n",
      "Pausing D\n",
      "Pausing D\n",
      "Pausing D\n",
      "Pausing D\n",
      "Pausing D\n",
      "Pausing D\n",
      "Pausing D\n",
      "Pausing D\n",
      "('epoch', 50, 600)\n",
      "('d_loss', 0.3646921366453171, 'a_loss', 1.1356407)\n",
      "('d_accuracy', 0.44140625)\n",
      "(array([[2]]), u'Jungle')\n"
     ]
    },
    {
     "data": {
      "image/png": "[encoded data removed]",
      "text/plain": [
       "<Figure size 1024x288 with 1 Axes>"
      ]
     },
     "metadata": {},
     "output_type": "display_data"
    },
    {
     "name": "stdout",
     "output_type": "stream",
     "text": [
      "\n",
      "\n",
      "Pausing D\n",
      "Pausing D\n",
      "Pausing D\n",
      "Pausing D\n",
      "Pausing D\n",
      "Pausing D\n",
      "Pausing D\n",
      "Pausing D\n",
      "Pausing D\n",
      "Pausing D\n",
      "Pausing D\n",
      "Pausing D\n",
      "Pausing D\n",
      "Pausing D\n",
      "Pausing D\n",
      "Pausing D\n",
      "Pausing D\n",
      "Pausing D\n",
      "Pausing D\n",
      "Pausing D\n",
      "Pausing D\n",
      "Pausing D\n",
      "Pausing D\n",
      "Pausing D\n",
      "Pausing D\n",
      "Pausing D\n",
      "Pausing D\n",
      "Pausing D\n",
      "Pausing D\n",
      "Pausing D\n",
      "Pausing D\n",
      "Pausing D\n",
      "Pausing D\n",
      "Pausing D\n",
      "('epoch', 50, 700)\n",
      "('d_loss', 0.3365877568721771, 'a_loss', 1.0548755)\n",
      "('d_accuracy', 0.46484375)\n",
      "(array([[0]]), u'Old Skool')\n"
     ]
    },
    {
     "data": {
      "image/png": "[encoded data removed]",
      "text/plain": [
       "<Figure size 1024x288 with 1 Axes>"
      ]
     },
     "metadata": {},
     "output_type": "display_data"
    },
    {
     "name": "stdout",
     "output_type": "stream",
     "text": [
      "\n",
      "\n",
      "Pausing D\n",
      "Pausing D\n",
      "Pausing D\n",
      "Pausing D\n",
      "Pausing D\n",
      "Pausing D\n",
      "Pausing D\n",
      "Pausing D\n",
      "Pausing D\n",
      "Pausing D\n",
      "Pausing D\n",
      "Pausing D\n",
      "Pausing D\n",
      "Pausing D\n",
      "Pausing D\n",
      "Pausing D\n",
      "Pausing D\n",
      "Pausing D\n",
      "Pausing D\n",
      "Pausing D\n",
      "Pausing D\n",
      "Pausing D\n",
      "Pausing D\n",
      "Pausing D\n",
      "Pausing D\n",
      "Pausing D\n",
      "Pausing D\n",
      "Pausing D\n",
      "Pausing D\n",
      "Pausing D\n",
      "Pausing D\n",
      "Pausing D\n",
      "Pausing D\n",
      "Pausing D\n",
      "Pausing D\n",
      "Pausing D\n",
      "Pausing D\n",
      "Pausing D\n",
      "Pausing D\n",
      "Pausing D\n",
      "Pausing D\n",
      "Pausing D\n",
      "Pausing D\n",
      "Pausing D\n",
      "Pausing D\n",
      "('epoch', 50, 800)\n",
      "('d_loss', 0.3279605060815811, 'a_loss', 1.5745523)\n",
      "('d_accuracy', 0.47265625)\n",
      "(array([[5]]), u'Garage')\n"
     ]
    },
    {
     "data": {
      "image/png": "[encoded data removed]",
      "text/plain": [
       "<Figure size 1024x288 with 1 Axes>"
      ]
     },
     "metadata": {},
     "output_type": "display_data"
    },
    {
     "name": "stdout",
     "output_type": "stream",
     "text": [
      "\n",
      "\n",
      "Pausing D\n",
      "Pausing D\n",
      "Pausing D\n",
      "Pausing D\n",
      "Pausing D\n",
      "Pausing D\n",
      "Pausing D\n",
      "Pausing D\n",
      "Pausing D\n",
      "Pausing D\n",
      "Pausing D\n",
      "Pausing D\n",
      "Pausing D\n",
      "Pausing D\n",
      "Pausing D\n",
      "Pausing D\n",
      "Pausing D\n",
      "Pausing D\n",
      "Pausing D\n",
      "Pausing D\n",
      "Pausing D\n",
      "Pausing D\n",
      "Pausing D\n",
      "Pausing D\n",
      "Pausing D\n",
      "Pausing D\n",
      "Pausing D\n",
      "Pausing D\n",
      "Pausing D\n",
      "Pausing D\n",
      "Pausing D\n",
      "Pausing D\n",
      "Pausing D\n",
      "Pausing D\n",
      "Pausing D\n",
      "Pausing D\n",
      "Pausing D\n",
      "Pausing D\n",
      "Pausing D\n",
      "Pausing D\n",
      "Pausing D\n",
      "Pausing D\n",
      "('epoch', 50, 900)\n",
      "('d_loss', 0.3234046846628189, 'a_loss', 1.1456003)\n",
      "('d_accuracy', 0.46875)\n",
      "(array([[3]]), u'House')\n"
     ]
    },
    {
     "data": {
      "image/png": "[encoded data removed]",
      "text/plain": [
       "<Figure size 1024x288 with 1 Axes>"
      ]
     },
     "metadata": {},
     "output_type": "display_data"
    },
    {
     "name": "stdout",
     "output_type": "stream",
     "text": [
      "\n",
      "\n",
      "Pausing D\n",
      "Pausing D\n",
      "Pausing D\n",
      "Pausing D\n",
      "Pausing D\n",
      "Pausing D\n",
      "Pausing D\n",
      "Pausing D\n",
      "Pausing D\n",
      "Pausing D\n",
      "Pausing D\n",
      "Pausing D\n",
      "Pausing D\n",
      "Pausing D\n",
      "Pausing D\n",
      "Pausing D\n",
      "Pausing D\n",
      "Pausing D\n",
      "Pausing D\n",
      "Pausing D\n",
      "Pausing D\n",
      "Pausing D\n",
      "Pausing D\n",
      "Pausing D\n",
      "Pausing D\n",
      "Pausing D\n",
      "Pausing D\n",
      "Pausing D\n",
      "Pausing D\n",
      "Pausing D\n",
      "Pausing D\n",
      "Pausing D\n",
      "Pausing D\n",
      "Pausing D\n",
      "Pausing D\n",
      "Pausing D\n",
      "Pausing D\n",
      "Pausing D\n",
      "Pausing D\n",
      "Pausing D\n",
      "('epoch', 50, 1000)\n",
      "('d_loss', 0.3367489203810692, 'a_loss', 0.8518859)\n",
      "('d_accuracy', 0.48046875)\n",
      "(array([[0]]), u'Old Skool')\n"
     ]
    },
    {
     "data": {
      "image/png": "[encoded data removed]",
      "text/plain": [
       "<Figure size 1024x288 with 1 Axes>"
      ]
     },
     "metadata": {},
     "output_type": "display_data"
    },
    {
     "name": "stdout",
     "output_type": "stream",
     "text": [
      "\n",
      "\n",
      "Pausing D\n",
      "Pausing D\n",
      "Pausing D\n",
      "Pausing D\n",
      "Pausing D\n",
      "Pausing D\n",
      "Pausing D\n",
      "Pausing D\n",
      "Pausing D\n",
      "Pausing D\n",
      "Pausing D\n",
      "Pausing D\n",
      "Pausing D\n",
      "Pausing D\n",
      "Pausing D\n",
      "Pausing D\n",
      "Pausing D\n",
      "Pausing D\n",
      "Pausing D\n",
      "Pausing D\n",
      "Pausing D\n",
      "Pausing D\n",
      "Pausing D\n",
      "Pausing D\n",
      "Pausing D\n",
      "Pausing D\n",
      "Pausing D\n",
      "Pausing D\n",
      "Pausing D\n",
      "Pausing D\n",
      "Pausing D\n",
      "Pausing D\n",
      "Pausing D\n",
      "Pausing D\n",
      "Pausing D\n",
      "Pausing D\n",
      "Pausing D\n",
      "('epoch', 50, 1100)\n",
      "('d_loss', 0.3683750256896019, 'a_loss', 0.9099002)\n",
      "('d_accuracy', 0.45703125)\n",
      "(array([[0]]), u'Old Skool')\n"
     ]
    },
    {
     "data": {
      "image/png": "[encoded data removed]",
      "text/plain": [
       "<Figure size 1024x288 with 1 Axes>"
      ]
     },
     "metadata": {},
     "output_type": "display_data"
    },
    {
     "name": "stdout",
     "output_type": "stream",
     "text": [
      "\n",
      "\n",
      "Pausing D\n",
      "Pausing D\n",
      "Pausing D\n",
      "Pausing D\n",
      "Pausing D\n",
      "Pausing D\n",
      "Pausing D\n",
      "Pausing D\n",
      "Pausing D\n",
      "Pausing D\n",
      "Pausing D\n",
      "Pausing D\n",
      "Pausing D\n",
      "Pausing D\n",
      "Pausing D\n",
      "Pausing D\n",
      "Pausing D\n",
      "Pausing D\n",
      "Pausing D\n",
      "Pausing D\n",
      "Pausing D\n",
      "Pausing D\n",
      "Pausing D\n",
      "Pausing D\n",
      "Pausing D\n",
      "Pausing D\n",
      "Pausing D\n",
      "Pausing D\n",
      "Pausing D\n",
      "Pausing D\n",
      "Pausing D\n",
      "Pausing D\n",
      "('epoch', 51, 0)\n",
      "('d_loss', 0.3638974577188492, 'a_loss', 1.3385284)\n",
      "('d_accuracy', 0.44140625)\n",
      "(array([[2]]), u'Jungle')\n"
     ]
    },
    {
     "data": {
      "image/png": "[encoded data removed]",
      "text/plain": [
       "<Figure size 1024x288 with 1 Axes>"
      ]
     },
     "metadata": {},
     "output_type": "display_data"
    },
    {
     "name": "stdout",
     "output_type": "stream",
     "text": [
      "\n",
      "\n",
      "Pausing D\n",
      "Pausing D\n",
      "Pausing D\n",
      "Pausing D\n",
      "Pausing D\n",
      "Pausing D\n",
      "Pausing D\n",
      "Pausing D\n",
      "Pausing D\n",
      "Pausing D\n",
      "Pausing D\n",
      "Pausing D\n",
      "Pausing D\n",
      "Pausing D\n",
      "Pausing D\n",
      "Pausing D\n",
      "Pausing D\n",
      "Pausing D\n",
      "Pausing D\n",
      "Pausing D\n",
      "Pausing D\n",
      "Pausing D\n",
      "Pausing D\n",
      "Pausing D\n",
      "Pausing D\n",
      "Pausing D\n",
      "Pausing D\n",
      "Pausing D\n",
      "Pausing D\n",
      "Pausing D\n",
      "Pausing D\n",
      "Pausing D\n",
      "Pausing D\n",
      "Pausing D\n",
      "Pausing D\n",
      "Pausing D\n",
      "Pausing D\n",
      "Pausing D\n",
      "('epoch', 51, 100)\n",
      "('d_loss', 0.31427209079265594, 'a_loss', 0.65598977)\n",
      "('d_accuracy', 0.48046875)\n",
      "(array([[5]]), u'Garage')\n"
     ]
    },
    {
     "data": {
      "image/png": "[encoded data removed]",
      "text/plain": [
       "<Figure size 1024x288 with 1 Axes>"
      ]
     },
     "metadata": {},
     "output_type": "display_data"
    },
    {
     "name": "stdout",
     "output_type": "stream",
     "text": [
      "\n",
      "\n",
      "Pausing D\n",
      "Pausing D\n",
      "Pausing D\n",
      "Pausing D\n",
      "Pausing D\n",
      "Pausing D\n",
      "Pausing D\n",
      "Pausing D\n",
      "Pausing D\n",
      "Pausing D\n",
      "Pausing D\n",
      "Pausing D\n",
      "Pausing D\n",
      "Pausing D\n",
      "Pausing D\n",
      "Pausing D\n",
      "Pausing D\n",
      "Pausing D\n",
      "Pausing D\n",
      "Pausing D\n",
      "Pausing D\n",
      "Pausing D\n",
      "Pausing D\n",
      "Pausing D\n",
      "Pausing D\n",
      "Pausing D\n",
      "Pausing D\n",
      "Pausing D\n",
      "Pausing D\n",
      "Pausing D\n",
      "Pausing D\n",
      "Pausing D\n",
      "Pausing D\n",
      "Pausing D\n",
      "Pausing D\n",
      "Pausing D\n",
      "('epoch', 51, 200)\n",
      "('d_loss', 0.32307761162519455, 'a_loss', 0.9392438)\n",
      "('d_accuracy', 0.46875)\n",
      "(array([[6]]), u'Techno')\n"
     ]
    },
    {
     "data": {
      "image/png": "[encoded data removed]",
      "text/plain": [
       "<Figure size 1024x288 with 1 Axes>"
      ]
     },
     "metadata": {},
     "output_type": "display_data"
    },
    {
     "name": "stdout",
     "output_type": "stream",
     "text": [
      "\n",
      "\n",
      "Pausing D\n",
      "Pausing D\n",
      "Pausing D\n",
      "Pausing D\n",
      "Pausing D\n",
      "Pausing D\n",
      "Pausing D\n",
      "Pausing D\n",
      "Pausing D\n",
      "Pausing D\n",
      "Pausing D\n",
      "Pausing D\n",
      "Pausing D\n",
      "Pausing D\n",
      "Pausing D\n",
      "Pausing D\n",
      "Pausing D\n",
      "Pausing D\n",
      "Pausing D\n",
      "Pausing D\n",
      "Pausing D\n",
      "Pausing D\n",
      "Pausing D\n",
      "Pausing D\n",
      "Pausing D\n",
      "Pausing D\n",
      "Pausing D\n",
      "Pausing D\n",
      "Pausing D\n",
      "Pausing D\n",
      "Pausing D\n",
      "Pausing D\n",
      "Pausing D\n",
      "Pausing D\n",
      "Pausing D\n",
      "Pausing D\n",
      "Pausing D\n",
      "('epoch', 51, 300)\n",
      "('d_loss', 0.31520257145166397, 'a_loss', 1.4320732)\n",
      "('d_accuracy', 0.46875)\n",
      "(array([[0]]), u'Old Skool')\n"
     ]
    },
    {
     "data": {
      "image/png": "[encoded data removed]",
      "text/plain": [
       "<Figure size 1024x288 with 1 Axes>"
      ]
     },
     "metadata": {},
     "output_type": "display_data"
    },
    {
     "name": "stdout",
     "output_type": "stream",
     "text": [
      "\n",
      "\n",
      "Pausing D\n",
      "Pausing D\n",
      "Pausing D\n",
      "Pausing D\n",
      "Pausing D\n",
      "Pausing D\n",
      "Pausing D\n",
      "Pausing D\n",
      "Pausing D\n",
      "Pausing D\n",
      "Pausing D\n",
      "Pausing D\n",
      "Pausing D\n",
      "Pausing D\n",
      "Pausing D\n",
      "Pausing D\n",
      "Pausing D\n",
      "Pausing D\n",
      "Pausing D\n",
      "Pausing D\n",
      "Pausing D\n",
      "Pausing D\n",
      "Pausing D\n",
      "Pausing D\n",
      "Pausing D\n",
      "Pausing D\n",
      "Pausing D\n",
      "Pausing D\n",
      "Pausing D\n",
      "Pausing D\n",
      "Pausing D\n",
      "Pausing D\n",
      "Pausing D\n",
      "Pausing D\n",
      "Pausing D\n",
      "Pausing D\n",
      "('epoch', 51, 400)\n",
      "('d_loss', 0.3466506600379944, 'a_loss', 0.99846977)\n",
      "('d_accuracy', 0.44921875)\n",
      "(array([[4]]), u'Breakbeat')\n"
     ]
    },
    {
     "data": {
      "image/png": "[encoded data removed]",
      "text/plain": [
       "<Figure size 1024x288 with 1 Axes>"
      ]
     },
     "metadata": {},
     "output_type": "display_data"
    },
    {
     "name": "stdout",
     "output_type": "stream",
     "text": [
      "\n",
      "\n",
      "Pausing D\n",
      "Pausing D\n",
      "Pausing D\n",
      "Pausing D\n",
      "Pausing D\n",
      "Pausing D\n",
      "Pausing D\n",
      "Pausing D\n",
      "Pausing D\n",
      "Pausing D\n",
      "Pausing D\n",
      "Pausing D\n",
      "Pausing D\n",
      "Pausing D\n",
      "Pausing D\n",
      "Pausing D\n",
      "Pausing D\n",
      "Pausing D\n",
      "Pausing D\n",
      "Pausing D\n",
      "Pausing D\n",
      "Pausing D\n",
      "Pausing D\n",
      "Pausing D\n",
      "Pausing D\n",
      "Pausing D\n",
      "Pausing D\n",
      "Pausing D\n",
      "Pausing D\n",
      "('epoch', 51, 500)\n",
      "('d_loss', 0.3263407051563263, 'a_loss', 0.53112924)\n",
      "('d_accuracy', 0.47265625)\n",
      "(array([[0]]), u'Old Skool')\n"
     ]
    },
    {
     "data": {
      "image/png": "[encoded data removed]",
      "text/plain": [
       "<Figure size 1024x288 with 1 Axes>"
      ]
     },
     "metadata": {},
     "output_type": "display_data"
    },
    {
     "name": "stdout",
     "output_type": "stream",
     "text": [
      "\n",
      "\n",
      "Pausing D\n",
      "Pausing D\n",
      "Pausing D\n",
      "Pausing D\n",
      "Pausing D\n",
      "Pausing D\n",
      "Pausing D\n",
      "Pausing D\n",
      "Pausing D\n",
      "Pausing D\n",
      "Pausing D\n",
      "Pausing D\n",
      "Pausing D\n",
      "Pausing D\n",
      "Pausing D\n",
      "Pausing D\n",
      "Pausing D\n",
      "Pausing D\n",
      "Pausing D\n",
      "Pausing D\n",
      "Pausing D\n",
      "Pausing D\n",
      "Pausing D\n",
      "Pausing D\n",
      "Pausing D\n",
      "Pausing D\n",
      "Pausing D\n",
      "Pausing D\n",
      "Pausing D\n",
      "Pausing D\n",
      "Pausing D\n",
      "('epoch', 51, 600)\n",
      "('d_loss', 0.34356388449668884, 'a_loss', 0.97509825)\n",
      "('d_accuracy', 0.4609375)\n",
      "(array([[3]]), u'House')\n"
     ]
    },
    {
     "data": {
      "image/png": "[encoded data removed]",
      "text/plain": [
       "<Figure size 1024x288 with 1 Axes>"
      ]
     },
     "metadata": {},
     "output_type": "display_data"
    },
    {
     "name": "stdout",
     "output_type": "stream",
     "text": [
      "\n",
      "\n",
      "Pausing D\n",
      "Pausing D\n",
      "Pausing D\n",
      "Pausing D\n",
      "Pausing D\n",
      "Pausing D\n",
      "Pausing D\n",
      "Pausing D\n",
      "Pausing D\n",
      "Pausing D\n",
      "Pausing D\n",
      "Pausing D\n",
      "Pausing D\n",
      "Pausing D\n",
      "Pausing D\n",
      "Pausing D\n",
      "Pausing D\n",
      "Pausing D\n",
      "Pausing D\n",
      "Pausing D\n",
      "Pausing D\n",
      "Pausing D\n",
      "Pausing D\n",
      "Pausing D\n",
      "Pausing D\n",
      "Pausing D\n",
      "Pausing D\n",
      "Pausing D\n",
      "Pausing D\n",
      "Pausing D\n",
      "Pausing D\n",
      "Pausing D\n",
      "Pausing D\n",
      "Pausing D\n",
      "('epoch', 51, 700)\n",
      "('d_loss', 0.3306339308619499, 'a_loss', 1.2174847)\n",
      "('d_accuracy', 0.4609375)\n",
      "(array([[1]]), u'DnB')\n"
     ]
    },
    {
     "data": {
      "image/png": "[encoded data removed]",
      "text/plain": [
       "<Figure size 1024x288 with 1 Axes>"
      ]
     },
     "metadata": {},
     "output_type": "display_data"
    },
    {
     "name": "stdout",
     "output_type": "stream",
     "text": [
      "\n",
      "\n",
      "Pausing D\n",
      "Pausing D\n",
      "Pausing D\n",
      "Pausing D\n",
      "Pausing D\n",
      "Pausing D\n",
      "Pausing D\n",
      "Pausing D\n",
      "Pausing D\n",
      "Pausing D\n",
      "Pausing D\n",
      "Pausing D\n",
      "Pausing D\n",
      "Pausing D\n",
      "Pausing D\n",
      "Pausing D\n",
      "Pausing D\n",
      "Pausing D\n",
      "Pausing D\n",
      "Pausing D\n",
      "Pausing D\n",
      "Pausing D\n",
      "Pausing D\n",
      "Pausing D\n",
      "Pausing D\n",
      "Pausing D\n",
      "Pausing D\n",
      "Pausing D\n",
      "Pausing D\n",
      "Pausing D\n",
      "Pausing D\n",
      "Pausing D\n",
      "Pausing D\n",
      "Pausing D\n",
      "Pausing D\n",
      "Pausing D\n",
      "Pausing D\n",
      "Pausing D\n",
      "('epoch', 51, 800)\n",
      "('d_loss', 0.31915387511253357, 'a_loss', 1.0451792)\n",
      "('d_accuracy', 0.47265625)\n",
      "(array([[4]]), u'Breakbeat')\n"
     ]
    },
    {
     "data": {
      "image/png": "[encoded data removed]",
      "text/plain": [
       "<Figure size 1024x288 with 1 Axes>"
      ]
     },
     "metadata": {},
     "output_type": "display_data"
    },
    {
     "name": "stdout",
     "output_type": "stream",
     "text": [
      "\n",
      "\n",
      "Pausing D\n",
      "Pausing D\n",
      "Pausing D\n",
      "Pausing D\n",
      "Pausing D\n",
      "Pausing D\n",
      "Pausing D\n",
      "Pausing D\n",
      "Pausing D\n",
      "Pausing D\n",
      "Pausing D\n",
      "Pausing D\n",
      "Pausing D\n",
      "Pausing D\n",
      "Pausing D\n",
      "Pausing D\n",
      "Pausing D\n",
      "Pausing D\n",
      "Pausing D\n",
      "Pausing D\n",
      "Pausing D\n",
      "Pausing D\n",
      "Pausing D\n",
      "Pausing D\n",
      "Pausing D\n",
      "Pausing D\n",
      "Pausing D\n",
      "Pausing D\n",
      "Pausing D\n",
      "Pausing D\n",
      "Pausing D\n",
      "Pausing D\n",
      "Pausing D\n",
      "Pausing D\n",
      "Pausing D\n",
      "Pausing D\n",
      "Pausing D\n",
      "Pausing D\n",
      "Pausing D\n",
      "Pausing D\n",
      "Pausing D\n",
      "('epoch', 51, 900)\n",
      "('d_loss', 0.33668673038482666, 'a_loss', 1.1566414)\n",
      "('d_accuracy', 0.4765625)\n",
      "(array([[3]]), u'House')\n"
     ]
    },
    {
     "data": {
      "image/png": "[encoded data removed]",
      "text/plain": [
       "<Figure size 1024x288 with 1 Axes>"
      ]
     },
     "metadata": {},
     "output_type": "display_data"
    },
    {
     "name": "stdout",
     "output_type": "stream",
     "text": [
      "\n",
      "\n",
      "Pausing D\n",
      "Pausing D\n",
      "Pausing D\n",
      "Pausing D\n",
      "Pausing D\n",
      "Pausing D\n",
      "Pausing D\n",
      "Pausing D\n",
      "Pausing D\n",
      "Pausing D\n",
      "Pausing D\n",
      "Pausing D\n",
      "Pausing D\n",
      "Pausing D\n",
      "Pausing D\n",
      "Pausing D\n",
      "Pausing D\n",
      "Pausing D\n",
      "Pausing D\n",
      "Pausing D\n",
      "Pausing D\n",
      "Pausing D\n",
      "Pausing D\n",
      "Pausing D\n",
      "Pausing D\n",
      "Pausing D\n",
      "Pausing D\n",
      "Pausing D\n",
      "Pausing D\n",
      "Pausing D\n",
      "Pausing D\n",
      "Pausing D\n",
      "Pausing D\n",
      "Pausing D\n",
      "Pausing D\n",
      "Pausing D\n",
      "Pausing D\n",
      "Pausing D\n",
      "Pausing D\n",
      "Pausing D\n",
      "Pausing D\n",
      "Pausing D\n",
      "Pausing D\n",
      "('epoch', 51, 1000)\n",
      "('d_loss', 0.2868459150195122, 'a_loss', 1.1246041)\n",
      "('d_accuracy', 0.484375)\n",
      "(array([[2]]), u'Jungle')\n"
     ]
    },
    {
     "data": {
      "image/png": "[encoded data removed]",
      "text/plain": [
       "<Figure size 1024x288 with 1 Axes>"
      ]
     },
     "metadata": {},
     "output_type": "display_data"
    },
    {
     "name": "stdout",
     "output_type": "stream",
     "text": [
      "\n",
      "\n",
      "Pausing D\n",
      "Pausing D\n",
      "Pausing D\n",
      "Pausing D\n",
      "Pausing D\n",
      "Pausing D\n",
      "Pausing D\n",
      "Pausing D\n",
      "Pausing D\n",
      "Pausing D\n",
      "Pausing D\n",
      "Pausing D\n",
      "Pausing D\n",
      "Pausing D\n",
      "Pausing D\n",
      "Pausing D\n",
      "Pausing D\n",
      "Pausing D\n",
      "Pausing D\n",
      "Pausing D\n",
      "Pausing D\n",
      "Pausing D\n",
      "Pausing D\n",
      "Pausing D\n",
      "Pausing D\n",
      "Pausing D\n",
      "Pausing D\n",
      "Pausing D\n",
      "Pausing D\n",
      "Pausing D\n",
      "Pausing D\n",
      "Pausing D\n",
      "('epoch', 51, 1100)\n",
      "('d_loss', 0.3117212578654289, 'a_loss', 1.1570247)\n",
      "('d_accuracy', 0.4765625)\n",
      "(array([[5]]), u'Garage')\n"
     ]
    },
    {
     "data": {
      "image/png": "[encoded data removed]",
      "text/plain": [
       "<Figure size 1024x288 with 1 Axes>"
      ]
     },
     "metadata": {},
     "output_type": "display_data"
    },
    {
     "name": "stdout",
     "output_type": "stream",
     "text": [
      "\n",
      "\n",
      "Pausing D\n",
      "Pausing D\n",
      "Pausing D\n",
      "Pausing D\n",
      "Pausing D\n",
      "Pausing D\n",
      "Pausing D\n",
      "Pausing D\n",
      "Pausing D\n",
      "Pausing D\n",
      "Pausing D\n",
      "Pausing D\n",
      "Pausing D\n",
      "Pausing D\n",
      "Pausing D\n",
      "Pausing D\n",
      "Pausing D\n",
      "Pausing D\n",
      "Pausing D\n",
      "Pausing D\n",
      "Pausing D\n",
      "Pausing D\n",
      "Pausing D\n",
      "Pausing D\n",
      "Pausing D\n",
      "Pausing D\n",
      "Pausing D\n",
      "Pausing D\n",
      "Pausing D\n",
      "('epoch', 52, 0)\n",
      "('d_loss', 0.322430357336998, 'a_loss', 1.0852144)\n",
      "('d_accuracy', 0.47265625)\n",
      "(array([[5]]), u'Garage')\n"
     ]
    },
    {
     "data": {
      "image/png": "[encoded data removed]",
      "text/plain": [
       "<Figure size 1024x288 with 1 Axes>"
      ]
     },
     "metadata": {},
     "output_type": "display_data"
    },
    {
     "name": "stdout",
     "output_type": "stream",
     "text": [
      "\n",
      "\n",
      "Pausing D\n",
      "Pausing D\n",
      "Pausing D\n",
      "Pausing D\n",
      "Pausing D\n",
      "Pausing D\n",
      "Pausing D\n",
      "Pausing D\n",
      "Pausing D\n",
      "Pausing D\n",
      "Pausing D\n",
      "Pausing D\n",
      "Pausing D\n",
      "Pausing D\n",
      "Pausing D\n",
      "Pausing D\n",
      "Pausing D\n",
      "Pausing D\n",
      "Pausing D\n",
      "Pausing D\n",
      "Pausing D\n",
      "Pausing D\n",
      "Pausing D\n",
      "Pausing D\n",
      "Pausing D\n",
      "Pausing D\n",
      "Pausing D\n",
      "Pausing D\n",
      "Pausing D\n",
      "Pausing D\n",
      "Pausing D\n",
      "Pausing D\n",
      "Pausing D\n",
      "Pausing D\n",
      "Pausing D\n",
      "Pausing D\n",
      "Pausing D\n",
      "Pausing D\n",
      "('epoch', 52, 100)\n",
      "('d_loss', 0.3370136246085167, 'a_loss', 1.1797645)\n",
      "('d_accuracy', 0.45703125)\n",
      "(array([[0]]), u'Old Skool')\n"
     ]
    },
    {
     "data": {
      "image/png": "[encoded data removed]",
      "text/plain": [
       "<Figure size 1024x288 with 1 Axes>"
      ]
     },
     "metadata": {},
     "output_type": "display_data"
    },
    {
     "name": "stdout",
     "output_type": "stream",
     "text": [
      "\n",
      "\n",
      "Pausing D\n",
      "Pausing D\n",
      "Pausing D\n",
      "Pausing D\n",
      "Pausing D\n",
      "Pausing D\n",
      "Pausing D\n",
      "Pausing D\n",
      "Pausing D\n",
      "Pausing D\n",
      "Pausing D\n",
      "Pausing D\n",
      "Pausing D\n",
      "Pausing D\n",
      "Pausing D\n",
      "Pausing D\n",
      "Pausing D\n",
      "Pausing D\n",
      "Pausing D\n",
      "Pausing D\n",
      "Pausing D\n",
      "Pausing D\n",
      "Pausing D\n",
      "Pausing D\n",
      "Pausing D\n",
      "Pausing D\n",
      "Pausing D\n",
      "Pausing D\n",
      "Pausing D\n",
      "Pausing D\n",
      "Pausing D\n",
      "Pausing D\n",
      "Pausing D\n",
      "Pausing D\n",
      "Pausing D\n",
      "Pausing D\n",
      "('epoch', 52, 200)\n",
      "('d_loss', 0.35705476999282837, 'a_loss', 0.921966)\n",
      "('d_accuracy', 0.44921875)\n",
      "(array([[0]]), u'Old Skool')\n"
     ]
    },
    {
     "data": {
      "image/png": "[encoded data removed]",
      "text/plain": [
       "<Figure size 1024x288 with 1 Axes>"
      ]
     },
     "metadata": {},
     "output_type": "display_data"
    },
    {
     "name": "stdout",
     "output_type": "stream",
     "text": [
      "\n",
      "\n",
      "Pausing D\n",
      "Pausing D\n",
      "Pausing D\n",
      "Pausing D\n",
      "Pausing D\n",
      "Pausing D\n",
      "Pausing D\n",
      "Pausing D\n",
      "Pausing D\n",
      "Pausing D\n",
      "Pausing D\n",
      "Pausing D\n",
      "Pausing D\n",
      "Pausing D\n",
      "Pausing D\n",
      "Pausing D\n",
      "Pausing D\n",
      "Pausing D\n",
      "Pausing D\n",
      "Pausing D\n",
      "Pausing D\n",
      "Pausing D\n",
      "Pausing D\n",
      "Pausing D\n",
      "Pausing D\n",
      "Pausing D\n",
      "Pausing D\n",
      "Pausing D\n",
      "Pausing D\n",
      "Pausing D\n",
      "Pausing D\n",
      "Pausing D\n",
      "Pausing D\n",
      "Pausing D\n",
      "('epoch', 52, 300)\n",
      "('d_loss', 0.35145804286003113, 'a_loss', 0.9069232)\n",
      "('d_accuracy', 0.48046875)\n",
      "(array([[3]]), u'House')\n"
     ]
    },
    {
     "data": {
      "image/png": "[encoded data removed]",
      "text/plain": [
       "<Figure size 1024x288 with 1 Axes>"
      ]
     },
     "metadata": {},
     "output_type": "display_data"
    },
    {
     "name": "stdout",
     "output_type": "stream",
     "text": [
      "\n",
      "\n",
      "Pausing D\n",
      "Pausing D\n",
      "Pausing D\n",
      "Pausing D\n",
      "Pausing D\n",
      "Pausing D\n",
      "Pausing D\n",
      "Pausing D\n",
      "Pausing D\n",
      "Pausing D\n",
      "Pausing D\n",
      "Pausing D\n",
      "Pausing D\n",
      "Pausing D\n",
      "Pausing D\n",
      "Pausing D\n",
      "Pausing D\n",
      "Pausing D\n",
      "Pausing D\n",
      "Pausing D\n",
      "Pausing D\n",
      "Pausing D\n",
      "Pausing D\n",
      "Pausing D\n",
      "Pausing D\n",
      "Pausing D\n",
      "Pausing D\n",
      "Pausing D\n",
      "Pausing D\n",
      "Pausing D\n",
      "Pausing D\n",
      "Pausing D\n",
      "Pausing D\n",
      "('epoch', 52, 400)\n",
      "('d_loss', 0.31705816090106964, 'a_loss', 0.7149039)\n",
      "('d_accuracy', 0.46875)\n",
      "(array([[1]]), u'DnB')\n"
     ]
    },
    {
     "data": {
      "image/png": "[encoded data removed]",
      "text/plain": [
       "<Figure size 1024x288 with 1 Axes>"
      ]
     },
     "metadata": {},
     "output_type": "display_data"
    },
    {
     "name": "stdout",
     "output_type": "stream",
     "text": [
      "\n",
      "\n",
      "Pausing D\n",
      "Pausing D\n",
      "Pausing D\n",
      "Pausing D\n",
      "Pausing D\n",
      "Pausing D\n",
      "Pausing D\n",
      "Pausing D\n",
      "Pausing D\n",
      "Pausing D\n",
      "Pausing D\n",
      "Pausing D\n",
      "Pausing D\n",
      "Pausing D\n",
      "Pausing D\n",
      "Pausing D\n",
      "Pausing D\n",
      "Pausing D\n",
      "Pausing D\n",
      "Pausing D\n",
      "Pausing D\n",
      "Pausing D\n",
      "Pausing D\n",
      "Pausing D\n",
      "Pausing D\n",
      "Pausing D\n",
      "Pausing D\n",
      "Pausing D\n",
      "Pausing D\n",
      "Pausing D\n",
      "('epoch', 52, 500)\n",
      "('d_loss', 0.3067670539021492, 'a_loss', 1.0671012)\n",
      "('d_accuracy', 0.4921875)\n",
      "(array([[2]]), u'Jungle')\n"
     ]
    },
    {
     "data": {
      "image/png": "[encoded data removed]",
      "text/plain": [
       "<Figure size 1024x288 with 1 Axes>"
      ]
     },
     "metadata": {},
     "output_type": "display_data"
    },
    {
     "name": "stdout",
     "output_type": "stream",
     "text": [
      "\n",
      "\n",
      "Pausing D\n",
      "Pausing D\n",
      "Pausing D\n",
      "Pausing D\n",
      "Pausing D\n",
      "Pausing D\n",
      "Pausing D\n",
      "Pausing D\n",
      "Pausing D\n",
      "Pausing D\n",
      "Pausing D\n",
      "Pausing D\n",
      "Pausing D\n",
      "Pausing D\n",
      "Pausing D\n",
      "Pausing D\n",
      "Pausing D\n",
      "Pausing D\n",
      "Pausing D\n",
      "Pausing D\n",
      "Pausing D\n",
      "Pausing D\n",
      "Pausing D\n",
      "Pausing D\n",
      "Pausing D\n",
      "Pausing D\n",
      "Pausing D\n",
      "Pausing D\n",
      "Pausing D\n",
      "Pausing D\n",
      "Pausing D\n",
      "Pausing D\n",
      "Pausing D\n",
      "Pausing D\n",
      "Pausing D\n",
      "Pausing D\n",
      "Pausing D\n",
      "Pausing D\n",
      "('epoch', 52, 600)\n",
      "('d_loss', 0.3178180307149887, 'a_loss', 0.84237486)\n",
      "('d_accuracy', 0.45703125)\n",
      "(array([[2]]), u'Jungle')\n"
     ]
    },
    {
     "data": {
      "image/png": "[encoded data removed]",
      "text/plain": [
       "<Figure size 1024x288 with 1 Axes>"
      ]
     },
     "metadata": {},
     "output_type": "display_data"
    },
    {
     "name": "stdout",
     "output_type": "stream",
     "text": [
      "\n",
      "\n",
      "Pausing D\n",
      "Pausing D\n",
      "Pausing D\n",
      "Pausing D\n",
      "Pausing D\n",
      "Pausing D\n",
      "Pausing D\n",
      "Pausing D\n",
      "Pausing D\n",
      "Pausing D\n",
      "Pausing D\n",
      "Pausing D\n",
      "Pausing D\n",
      "Pausing D\n",
      "Pausing D\n",
      "Pausing D\n",
      "Pausing D\n",
      "Pausing D\n",
      "Pausing D\n",
      "Pausing D\n",
      "Pausing D\n",
      "Pausing D\n",
      "Pausing D\n",
      "Pausing D\n",
      "Pausing D\n",
      "Pausing D\n",
      "Pausing D\n",
      "Pausing D\n",
      "Pausing D\n",
      "Pausing D\n",
      "Pausing D\n",
      "Pausing D\n",
      "Pausing D\n",
      "('epoch', 52, 700)\n",
      "('d_loss', 0.3450269401073456, 'a_loss', 1.01932)\n",
      "('d_accuracy', 0.46875)\n",
      "(array([[0]]), u'Old Skool')\n"
     ]
    },
    {
     "data": {
      "image/png": "[encoded data removed]",
      "text/plain": [
       "<Figure size 1024x288 with 1 Axes>"
      ]
     },
     "metadata": {},
     "output_type": "display_data"
    },
    {
     "name": "stdout",
     "output_type": "stream",
     "text": [
      "\n",
      "\n",
      "Pausing D\n",
      "Pausing D\n",
      "Pausing D\n",
      "Pausing D\n",
      "Pausing D\n",
      "Pausing D\n",
      "Pausing D\n",
      "Pausing D\n",
      "Pausing D\n",
      "Pausing D\n",
      "Pausing D\n",
      "Pausing D\n",
      "Pausing D\n",
      "Pausing D\n",
      "Pausing D\n",
      "Pausing D\n",
      "Pausing D\n",
      "Pausing D\n",
      "Pausing D\n",
      "Pausing D\n",
      "Pausing D\n",
      "Pausing D\n",
      "Pausing D\n",
      "Pausing D\n",
      "Pausing D\n",
      "Pausing D\n",
      "Pausing D\n",
      "Pausing D\n",
      "Pausing D\n",
      "Pausing D\n",
      "Pausing D\n",
      "Pausing D\n",
      "Pausing D\n",
      "Pausing D\n",
      "Pausing D\n",
      "Pausing D\n",
      "Pausing D\n",
      "Pausing D\n",
      "Pausing D\n",
      "Pausing D\n",
      "('epoch', 52, 800)\n",
      "('d_loss', 0.29362645745277405, 'a_loss', 1.0464795)\n",
      "('d_accuracy', 0.484375)\n",
      "(array([[4]]), u'Breakbeat')\n"
     ]
    },
    {
     "data": {
      "image/png": "[encoded data removed]",
      "text/plain": [
       "<Figure size 1024x288 with 1 Axes>"
      ]
     },
     "metadata": {},
     "output_type": "display_data"
    },
    {
     "name": "stdout",
     "output_type": "stream",
     "text": [
      "\n",
      "\n",
      "Pausing D\n",
      "Pausing D\n",
      "Pausing D\n",
      "Pausing D\n",
      "Pausing D\n",
      "Pausing D\n",
      "Pausing D\n",
      "Pausing D\n",
      "Pausing D\n",
      "Pausing D\n",
      "Pausing D\n",
      "Pausing D\n",
      "Pausing D\n",
      "Pausing D\n",
      "Pausing D\n",
      "Pausing D\n",
      "Pausing D\n",
      "Pausing D\n",
      "Pausing D\n",
      "Pausing D\n",
      "Pausing D\n",
      "Pausing D\n",
      "Pausing D\n",
      "Pausing D\n",
      "Pausing D\n",
      "Pausing D\n",
      "Pausing D\n",
      "Pausing D\n",
      "Pausing D\n",
      "Pausing D\n",
      "Pausing D\n",
      "Pausing D\n",
      "Pausing D\n",
      "Pausing D\n",
      "Pausing D\n",
      "Pausing D\n",
      "Pausing D\n",
      "Pausing D\n",
      "Pausing D\n",
      "Pausing D\n",
      "Pausing D\n",
      "Pausing D\n",
      "Pausing D\n",
      "('epoch', 52, 900)\n",
      "('d_loss', 0.35418717563152313, 'a_loss', 0.9847518)\n",
      "('d_accuracy', 0.46484375)\n",
      "(array([[2]]), u'Jungle')\n"
     ]
    },
    {
     "data": {
      "image/png": "[encoded data removed]",
      "text/plain": [
       "<Figure size 1024x288 with 1 Axes>"
      ]
     },
     "metadata": {},
     "output_type": "display_data"
    },
    {
     "name": "stdout",
     "output_type": "stream",
     "text": [
      "\n",
      "\n",
      "Pausing D\n",
      "Pausing D\n",
      "Pausing D\n",
      "Pausing D\n",
      "Pausing D\n",
      "Pausing D\n",
      "Pausing D\n",
      "Pausing D\n",
      "Pausing D\n",
      "Pausing D\n",
      "Pausing D\n",
      "Pausing D\n",
      "Pausing D\n",
      "Pausing D\n",
      "Pausing D\n",
      "Pausing D\n",
      "Pausing D\n",
      "Pausing D\n",
      "Pausing D\n",
      "Pausing D\n",
      "Pausing D\n",
      "Pausing D\n",
      "Pausing D\n",
      "Pausing D\n",
      "Pausing D\n",
      "Pausing D\n",
      "Pausing D\n",
      "Pausing D\n",
      "Pausing D\n",
      "Pausing D\n",
      "Pausing D\n",
      "Pausing D\n",
      "Pausing D\n",
      "Pausing D\n",
      "Pausing D\n",
      "Pausing D\n",
      "Pausing D\n",
      "Pausing D\n",
      "Pausing D\n",
      "Pausing D\n",
      "Pausing D\n",
      "Pausing D\n",
      "('epoch', 52, 1000)\n",
      "('d_loss', 0.32875869423151016, 'a_loss', 1.019182)\n",
      "('d_accuracy', 0.47265625)\n",
      "(array([[2]]), u'Jungle')\n"
     ]
    },
    {
     "data": {
      "image/png": "[encoded data removed]",
      "text/plain": [
       "<Figure size 1024x288 with 1 Axes>"
      ]
     },
     "metadata": {},
     "output_type": "display_data"
    },
    {
     "name": "stdout",
     "output_type": "stream",
     "text": [
      "\n",
      "\n",
      "Pausing D\n",
      "Pausing D\n",
      "Pausing D\n",
      "Pausing D\n",
      "Pausing D\n",
      "Pausing D\n",
      "Pausing D\n",
      "Pausing D\n",
      "Pausing D\n",
      "Pausing D\n",
      "Pausing D\n",
      "Pausing D\n",
      "Pausing D\n",
      "Pausing D\n",
      "Pausing D\n",
      "Pausing D\n",
      "Pausing D\n",
      "Pausing D\n",
      "Pausing D\n",
      "Pausing D\n",
      "Pausing D\n",
      "Pausing D\n",
      "Pausing D\n",
      "Pausing D\n",
      "Pausing D\n",
      "Pausing D\n",
      "Pausing D\n",
      "Pausing D\n",
      "Pausing D\n",
      "Pausing D\n",
      "Pausing D\n",
      "Pausing D\n",
      "Pausing D\n",
      "Pausing D\n",
      "Pausing D\n",
      "('epoch', 52, 1100)\n",
      "('d_loss', 0.35090190917253494, 'a_loss', 1.5280731)\n",
      "('d_accuracy', 0.4609375)\n",
      "(array([[1]]), u'DnB')\n"
     ]
    },
    {
     "data": {
      "image/png": "[encoded data removed]",
      "text/plain": [
       "<Figure size 1024x288 with 1 Axes>"
      ]
     },
     "metadata": {},
     "output_type": "display_data"
    },
    {
     "name": "stdout",
     "output_type": "stream",
     "text": [
      "\n",
      "\n",
      "Pausing D\n",
      "Pausing D\n",
      "Pausing D\n",
      "Pausing D\n",
      "Pausing D\n",
      "Pausing D\n",
      "Pausing D\n",
      "Pausing D\n",
      "Pausing D\n",
      "Pausing D\n",
      "Pausing D\n",
      "Pausing D\n",
      "Pausing D\n",
      "Pausing D\n",
      "Pausing D\n",
      "Pausing D\n",
      "Pausing D\n",
      "Pausing D\n",
      "Pausing D\n",
      "Pausing D\n",
      "Pausing D\n",
      "Pausing D\n",
      "Pausing D\n",
      "Pausing D\n",
      "Pausing D\n",
      "Pausing D\n",
      "Pausing D\n",
      "Pausing D\n",
      "Pausing D\n",
      "Pausing D\n",
      "Pausing D\n",
      "Pausing D\n",
      "Pausing D\n",
      "Pausing D\n",
      "Pausing D\n",
      "Pausing D\n",
      "Pausing D\n",
      "Pausing D\n",
      "Pausing D\n",
      "Pausing D\n",
      "('epoch', 53, 0)\n",
      "('d_loss', 0.23204581439495087, 'a_loss', 1.9260464)\n",
      "('d_accuracy', 0.49609375)\n",
      "(array([[5]]), u'Garage')\n"
     ]
    },
    {
     "data": {
      "image/png": "[encoded data removed]",
      "text/plain": [
       "<Figure size 1024x288 with 1 Axes>"
      ]
     },
     "metadata": {},
     "output_type": "display_data"
    },
    {
     "name": "stdout",
     "output_type": "stream",
     "text": [
      "\n",
      "\n",
      "Pausing D\n",
      "Pausing D\n",
      "Pausing D\n",
      "Pausing D\n",
      "Pausing D\n",
      "Pausing D\n",
      "Pausing D\n",
      "Pausing D\n",
      "Pausing D\n",
      "Pausing D\n",
      "Pausing D\n",
      "Pausing D\n",
      "Pausing D\n",
      "Pausing D\n",
      "Pausing D\n",
      "Pausing D\n",
      "Pausing D\n",
      "Pausing D\n",
      "Pausing D\n",
      "Pausing D\n",
      "Pausing D\n",
      "Pausing D\n",
      "Pausing D\n",
      "Pausing D\n",
      "Pausing D\n",
      "Pausing D\n",
      "Pausing D\n",
      "Pausing D\n",
      "Pausing D\n",
      "Pausing D\n",
      "Pausing D\n",
      "Pausing D\n",
      "Pausing D\n",
      "Pausing D\n",
      "Pausing D\n",
      "Pausing D\n",
      "Pausing D\n",
      "Pausing D\n",
      "Pausing D\n",
      "Pausing D\n",
      "Pausing D\n",
      "Pausing D\n",
      "Pausing D\n",
      "Pausing D\n",
      "Pausing D\n",
      "Pausing D\n",
      "Pausing D\n",
      "Pausing D\n",
      "Pausing D\n",
      "Pausing D\n",
      "('epoch', 53, 100)\n",
      "('d_loss', 0.24619405716657639, 'a_loss', 1.5789394)\n",
      "('d_accuracy', 0.5)\n",
      "(array([[2]]), u'Jungle')\n"
     ]
    },
    {
     "data": {
      "image/png": "[encoded data removed]",
      "text/plain": [
       "<Figure size 1024x288 with 1 Axes>"
      ]
     },
     "metadata": {},
     "output_type": "display_data"
    },
    {
     "name": "stdout",
     "output_type": "stream",
     "text": [
      "\n",
      "\n",
      "Pausing D\n",
      "Pausing D\n",
      "Pausing D\n",
      "Pausing D\n",
      "Pausing D\n",
      "Pausing D\n",
      "Pausing D\n",
      "Pausing D\n",
      "Pausing D\n",
      "Pausing D\n",
      "Pausing D\n",
      "Pausing D\n",
      "Pausing D\n",
      "Pausing D\n",
      "Pausing D\n",
      "Pausing D\n",
      "Pausing D\n",
      "Pausing D\n",
      "Pausing D\n",
      "Pausing D\n",
      "Pausing D\n",
      "Pausing D\n",
      "Pausing D\n",
      "Pausing D\n",
      "Pausing D\n",
      "Pausing D\n",
      "Pausing D\n",
      "Pausing D\n",
      "Pausing D\n",
      "Pausing D\n",
      "Pausing D\n",
      "Pausing D\n",
      "Pausing D\n",
      "Pausing D\n",
      "Pausing D\n",
      "Pausing D\n",
      "Pausing D\n",
      "Pausing D\n",
      "Pausing D\n",
      "Pausing D\n",
      "Pausing D\n",
      "Pausing D\n",
      "Pausing D\n",
      "Pausing D\n",
      "Pausing D\n",
      "Pausing D\n",
      "Pausing D\n",
      "Pausing D\n",
      "Pausing D\n",
      "Pausing D\n",
      "('epoch', 53, 200)\n",
      "('d_loss', 0.26965804398059845, 'a_loss', 1.4014113)\n",
      "('d_accuracy', 0.49609375)\n",
      "(array([[2]]), u'Jungle')\n"
     ]
    },
    {
     "data": {
      "image/png": "[encoded data removed]",
      "text/plain": [
       "<Figure size 1024x288 with 1 Axes>"
      ]
     },
     "metadata": {},
     "output_type": "display_data"
    },
    {
     "name": "stdout",
     "output_type": "stream",
     "text": [
      "\n",
      "\n",
      "Pausing D\n",
      "Pausing D\n",
      "Pausing D\n",
      "Pausing D\n",
      "Pausing D\n",
      "Pausing D\n",
      "Pausing D\n",
      "Pausing D\n",
      "Pausing D\n",
      "Pausing D\n",
      "Pausing D\n",
      "Pausing D\n",
      "Pausing D\n",
      "Pausing D\n",
      "Pausing D\n",
      "Pausing D\n",
      "Pausing D\n",
      "Pausing D\n",
      "Pausing D\n",
      "Pausing D\n",
      "Pausing D\n",
      "Pausing D\n",
      "Pausing D\n",
      "Pausing D\n",
      "Pausing D\n",
      "Pausing D\n",
      "Pausing D\n",
      "Pausing D\n",
      "Pausing D\n",
      "Pausing D\n",
      "Pausing D\n",
      "Pausing D\n",
      "Pausing D\n",
      "Pausing D\n",
      "Pausing D\n",
      "Pausing D\n",
      "Pausing D\n",
      "Pausing D\n",
      "Pausing D\n",
      "Pausing D\n",
      "Pausing D\n",
      "Pausing D\n",
      "Pausing D\n",
      "Pausing D\n",
      "Pausing D\n",
      "Pausing D\n",
      "Pausing D\n",
      "Pausing D\n",
      "Pausing D\n",
      "Pausing D\n",
      "('epoch', 53, 300)\n",
      "('d_loss', 0.2960652485489845, 'a_loss', 1.1792214)\n",
      "('d_accuracy', 0.5)\n",
      "(array([[1]]), u'DnB')\n"
     ]
    },
    {
     "data": {
      "image/png": "[encoded data removed]",
      "text/plain": [
       "<Figure size 1024x288 with 1 Axes>"
      ]
     },
     "metadata": {},
     "output_type": "display_data"
    },
    {
     "name": "stdout",
     "output_type": "stream",
     "text": [
      "\n",
      "\n",
      "Pausing D\n",
      "Pausing D\n",
      "Pausing D\n",
      "Pausing D\n",
      "Pausing D\n",
      "Pausing D\n",
      "Pausing D\n",
      "Pausing D\n",
      "Pausing D\n",
      "Pausing D\n",
      "Pausing D\n",
      "Pausing D\n",
      "Pausing D\n",
      "Pausing D\n",
      "Pausing D\n",
      "Pausing D\n",
      "Pausing D\n",
      "Pausing D\n",
      "Pausing D\n",
      "Pausing D\n",
      "Pausing D\n",
      "Pausing D\n",
      "Pausing D\n",
      "Pausing D\n",
      "Pausing D\n",
      "Pausing D\n",
      "Pausing D\n",
      "Pausing D\n",
      "Pausing D\n",
      "Pausing D\n",
      "Pausing D\n",
      "Pausing D\n",
      "Pausing D\n",
      "Pausing D\n",
      "Pausing D\n",
      "Pausing D\n",
      "Pausing D\n",
      "Pausing D\n",
      "Pausing D\n",
      "Pausing D\n",
      "Pausing D\n",
      "Pausing D\n",
      "Pausing D\n",
      "Pausing D\n",
      "Pausing D\n",
      "Pausing D\n",
      "Pausing D\n",
      "Pausing D\n",
      "Pausing D\n",
      "Pausing D\n",
      "('epoch', 53, 400)\n",
      "('d_loss', 0.2590553089976311, 'a_loss', 1.7393255)\n",
      "('d_accuracy', 0.5)\n",
      "(array([[2]]), u'Jungle')\n"
     ]
    },
    {
     "data": {
      "image/png": "[encoded data removed]",
      "text/plain": [
       "<Figure size 1024x288 with 1 Axes>"
      ]
     },
     "metadata": {},
     "output_type": "display_data"
    },
    {
     "name": "stdout",
     "output_type": "stream",
     "text": [
      "\n",
      "\n",
      "Pausing D\n",
      "Pausing D\n",
      "Pausing D\n",
      "Pausing D\n",
      "Pausing D\n",
      "Pausing D\n",
      "Pausing D\n",
      "Pausing D\n",
      "Pausing D\n",
      "Pausing D\n",
      "Pausing D\n",
      "Pausing D\n",
      "Pausing D\n",
      "Pausing D\n",
      "Pausing D\n",
      "Pausing D\n",
      "Pausing D\n",
      "Pausing D\n",
      "Pausing D\n",
      "Pausing D\n",
      "Pausing D\n",
      "Pausing D\n",
      "Pausing D\n",
      "Pausing D\n",
      "Pausing D\n",
      "Pausing D\n",
      "Pausing D\n",
      "Pausing D\n",
      "Pausing D\n",
      "Pausing D\n",
      "Pausing D\n",
      "Pausing D\n",
      "Pausing D\n",
      "Pausing D\n",
      "Pausing D\n",
      "Pausing D\n",
      "Pausing D\n",
      "Pausing D\n",
      "Pausing D\n",
      "Pausing D\n",
      "Pausing D\n",
      "Pausing D\n",
      "Pausing D\n",
      "Pausing D\n",
      "Pausing D\n",
      "Pausing D\n",
      "Pausing D\n",
      "Pausing D\n",
      "('epoch', 53, 500)\n",
      "('d_loss', 0.26594607904553413, 'a_loss', 1.4693434)\n",
      "('d_accuracy', 0.48828125)\n",
      "(array([[5]]), u'Garage')\n"
     ]
    },
    {
     "data": {
      "image/png": "[encoded data removed]",
      "text/plain": [
       "<Figure size 1024x288 with 1 Axes>"
      ]
     },
     "metadata": {},
     "output_type": "display_data"
    },
    {
     "name": "stdout",
     "output_type": "stream",
     "text": [
      "\n",
      "\n",
      "Pausing D\n",
      "Pausing D\n",
      "Pausing D\n",
      "Pausing D\n",
      "Pausing D\n",
      "Pausing D\n",
      "Pausing D\n",
      "Pausing D\n",
      "Pausing D\n",
      "Pausing D\n",
      "Pausing D\n",
      "Pausing D\n",
      "Pausing D\n",
      "Pausing D\n",
      "Pausing D\n",
      "Pausing D\n",
      "Pausing D\n",
      "Pausing D\n",
      "Pausing D\n",
      "Pausing D\n",
      "Pausing D\n",
      "Pausing D\n",
      "Pausing D\n",
      "Pausing D\n",
      "Pausing D\n",
      "Pausing D\n",
      "Pausing D\n",
      "Pausing D\n",
      "Pausing D\n",
      "Pausing D\n",
      "Pausing D\n",
      "Pausing D\n",
      "Pausing D\n",
      "Pausing D\n",
      "Pausing D\n",
      "Pausing D\n",
      "Pausing D\n",
      "Pausing D\n",
      "Pausing D\n",
      "Pausing D\n",
      "Pausing D\n",
      "Pausing D\n",
      "Pausing D\n",
      "Pausing D\n",
      "Pausing D\n",
      "Pausing D\n",
      "Pausing D\n",
      "Pausing D\n",
      "Pausing D\n",
      "Pausing D\n",
      "('epoch', 53, 600)\n",
      "('d_loss', 0.290937602519989, 'a_loss', 1.4563032)\n",
      "('d_accuracy', 0.5)\n",
      "(array([[0]]), u'Old Skool')\n"
     ]
    },
    {
     "data": {
      "image/png": "[encoded data removed]",
      "text/plain": [
       "<Figure size 1024x288 with 1 Axes>"
      ]
     },
     "metadata": {},
     "output_type": "display_data"
    },
    {
     "name": "stdout",
     "output_type": "stream",
     "text": [
      "\n",
      "\n",
      "Pausing D\n"
     ]
    }
   ],
   "source": [
    "\n",
    "batch_size = 32\n",
    "nb_epochs = 300\n",
    "nb_samples = matrices_drums.shape[0]\n",
    "\n",
    "K_unrolled = 4\n",
    "MAX_LOSS_RATIO = 3.0\n",
    "\n",
    "# Labels for real images: all ones\n",
    "real_labels = np.ones((batch_size, 1)) * 0.9\n",
    "\n",
    "# Labels for fake images: all zeros\n",
    "fake_labels = np.zeros((batch_size, 1))\n",
    "\n",
    "train_d = True\n",
    "train_g = True\n",
    "\n",
    "for epoch in range(45, nb_epochs):\n",
    "    \n",
    "    nb_steps = int(nb_samples/batch_size)\n",
    "    for repeat in range(nb_steps):\n",
    "        \n",
    "        step = nb_steps * epoch + repeat\n",
    "        \n",
    "        if train_d:\n",
    "            \n",
    "            m_d_loss = 0.0\n",
    "            m_d_accuracy = 0.0\n",
    "            \n",
    "            for j in range(K_unrolled):\n",
    "                # training data\n",
    "                random_indices = np.random.randint(0, matrices_drums.shape[0], size=batch_size)\n",
    "                drum_train = matrices_drums[random_indices, :, :]\n",
    "                labels_traing = matrices_genres[random_indices]\n",
    "\n",
    "                # generated samples\n",
    "                noise = get_noise(batch_size, len_input)\n",
    "                drum_fake = generator.predict([noise, labels_traing])\n",
    "\n",
    "                # training D\n",
    "    #             x = np.concatenate([drum_train, drum_fake])        \n",
    "    #             y = np.ones([2 * batch_size, 1])\n",
    "    #             y[:batch_size, :] = 0.9 # one-sided soft labeling\n",
    "    #             y[batch_size:, :] = 0 # label 0: fake 1: real\n",
    "                d_loss_real = discriminator.train_on_batch([drum_train, labels_traing], real_labels)\n",
    "                d_loss_fake = discriminator.train_on_batch([drum_fake,labels_traing], fake_labels)\n",
    "                d_loss, d_accuracy = 0.5 * np.add(d_loss_real, d_loss_fake)\n",
    "\n",
    "                m_d_loss += d_loss\n",
    "                m_d_accuracy += d_accuracy\n",
    "\n",
    "                # cache for later update\n",
    "    #             cache_weights = discriminator.get_weights()\n",
    "          \n",
    "            m_d_loss /= float(K_unrolled)\n",
    "            m_d_accuracy /= float(K_unrolled)\n",
    "            \n",
    "            # store value\n",
    "            log_value(\"D loss\", m_d_loss, step)  \n",
    "            log_value(\"D accuracy\", m_d_accuracy, step)  \n",
    "        \n",
    "        # training G\n",
    "        \n",
    "        if train_g:\n",
    "            y = np.ones([batch_size, 1]) # watch out the label! it should be one here        \n",
    "\n",
    "            noise = get_noise(batch_size, len_input)\n",
    "            # Get a batch of random labels\n",
    "            labels_random = np.random.randint(0, NB_GENRES, batch_size).reshape(-1, 1)\n",
    "            a_loss = gan.train_on_batch([noise, labels_random], y)\n",
    "                 \n",
    "            # store value\n",
    "            log_value(\"adversarial loss\", a_loss, step)\n",
    "                    \n",
    "        if train_d and train_g:\n",
    "            if a_loss / m_d_loss > MAX_LOSS_RATIO:\n",
    "                train_d = False\n",
    "                print \"Pausing D\"\n",
    "            elif m_d_loss / a_loss > MAX_LOSS_RATIO:\n",
    "                train_g = False\n",
    "                print \"Pausing G\"\n",
    "        else:\n",
    "            train_d = True\n",
    "            train_g = True\n",
    "            \n",
    "        # update layer \n",
    "#         discriminator.set_weights(cache_weights)\n",
    "    \n",
    "        if repeat % 100 == 0:            \n",
    "            print(\"epoch\", epoch, repeat)\n",
    "            print(\"d_loss\", m_d_loss, \"a_loss\", a_loss) # print mean loss)\n",
    "            print(\"d_accuracy\", m_d_accuracy )\n",
    "                        \n",
    "            # sample output\n",
    "            noise = get_noise(1, len_input)\n",
    "            labels_random = np.random.randint(0, NB_GENRES, 1).reshape(-1, 1)\n",
    "            drum_generated = generator.predict([noise, labels_random])\n",
    "            \n",
    "            print (labels_random, GENRES[int(labels_random)])\n",
    "            plot_drum_matrix(drum_generated)\n",
    "            \n",
    "            print\n",
    "            print\n",
    "            \n",
    "                        \n",
    "    # store temporary models\n",
    "    if (epoch + 1) % 5 == 0:\n",
    "        generator.save(\"./tmp/c_generator-epoch-%03d-%0.5f.h5\" % (epoch, a_loss))\n",
    "        gan.save(\"./tmp/c_gan-epoch-%03d-%0.5f.h5\" % (epoch, a_loss))\n",
    "        discriminator.save(\"./tmp/c_discriminator-epoch-%03d-%0.5f.h5\" % (epoch, m_d_loss))"
   ]
  },
  {
   "cell_type": "code",
   "execution_count": null,
   "metadata": {},
   "outputs": [],
   "source": [
    "for i in range(3):\n",
    "    noise = get_noise(1, len_input)\n",
    "    drum_generated = generator.predict(noise)\n",
    "    plot_drum_matrix(drum_generated)"
   ]
  },
  {
   "cell_type": "markdown",
   "metadata": {
    "collapsed": true
   },
   "source": [
    "# MIDI Playback"
   ]
  },
  {
   "cell_type": "code",
   "execution_count": null,
   "metadata": {
    "collapsed": true
   },
   "outputs": [],
   "source": [
    "# midi playback\n",
    "def note_matrix_to_sequence(mat, threshold = 0.5):\n",
    "    seq = []\n",
    "    for row in mat[:]:\n",
    "        arow = [[i, r] for i, r in enumerate(row) if r > threshold]\n",
    "        seq.append(arow)\n",
    "    return seq\n",
    "\n",
    "import OSC\n",
    "max_poly = 6 # maximum number of instruments played at the same time\n",
    "\n",
    "client = OSC.OSCClient()\n",
    "client.connect( ('10.0.1.14', 2014) ) \n",
    "\n",
    "def send_sequence_via_osc(seq):\n",
    "    ## the most basic ##\n",
    "    msg = OSC.OSCMessage()\n",
    "    msg.setAddress(\"/seq\")\n",
    "    msg.append(max_poly * 2)\n",
    "    \n",
    "    for notes in seq:\n",
    "        for i in range(max_poly):\n",
    "            if len(notes) > i:\n",
    "                msg.append([notes[i][0]+min_drum_note, notes[i][1]])\n",
    "            else:\n",
    "                msg.append([0, 0])\n",
    "    client.send(msg)\n",
    "    \n",
    "def playback_seq_via_osc(mat):\n",
    "    send_sequence_via_osc(note_matrix_to_sequence(mat, 0.2))"
   ]
  },
  {
   "cell_type": "code",
   "execution_count": null,
   "metadata": {},
   "outputs": [],
   "source": [
    "import time\n",
    "\n",
    "repeat = 1\n",
    "\n",
    "for j in range(100):\n",
    "    noise1 = get_noise(1, len_input) \n",
    "    noise2 = get_noise(1, len_input) \n",
    "    \n",
    "    for i in range(repeat):\n",
    "        noise = noise1 * (1.0 - i/float(repeat)) + noise2 * i/float(repeat)\n",
    "        drum_generated = generator.predict(noise)\n",
    "        mat = np.squeeze(drum_generated)\n",
    "        playback_seq_via_osc(mat)\n",
    "        time.sleep(4.0)\n",
    "        clear_output(wait=True)"
   ]
  }
 ],
 "metadata": {
  "anaconda-cloud": {},
  "kernelspec": {
   "display_name": "Python 2",
   "language": "python",
   "name": "python2"
  },
  "language_info": {
   "codemirror_mode": {
    "name": "ipython",
    "version": 2
   },
   "file_extension": ".py",
   "mimetype": "text/x-python",
   "name": "python",
   "nbconvert_exporter": "python",
   "pygments_lexer": "ipython2",
   "version": "2.7.15"
  },
  "nteract": {
   "version": "0.14.3"
  }
 },
 "nbformat": 4,
 "nbformat_minor": 2
}
